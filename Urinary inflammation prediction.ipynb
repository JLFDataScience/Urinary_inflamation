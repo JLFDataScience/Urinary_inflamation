{
 "cells": [
  {
   "cell_type": "code",
   "execution_count": 92,
   "metadata": {},
   "outputs": [],
   "source": [
    "import pandas as pd\n",
    "import numpy as np\n",
    "import matplotlib as plt"
   ]
  },
  {
   "cell_type": "code",
   "execution_count": 12,
   "metadata": {},
   "outputs": [
    {
     "name": "stdout",
     "output_type": "stream",
     "text": [
      "Using matplotlib backend: TkAgg\n",
      "Populating the interactive namespace from numpy and matplotlib\n"
     ]
    },
    {
     "name": "stderr",
     "output_type": "stream",
     "text": [
      "C:\\Users\\JoseLuisFernandez\\miniconda3\\envs\\py38\\lib\\site-packages\\IPython\\core\\magics\\pylab.py:159: UserWarning: pylab import has clobbered these variables: ['plt']\n",
      "`%matplotlib` prevents importing * from pylab and numpy\n",
      "  warn(\"pylab import has clobbered these variables: %s\"  % clobbered +\n"
     ]
    }
   ],
   "source": [
    "%pylab\n",
    "%matplotlib inline"
   ]
  },
  {
   "cell_type": "markdown",
   "metadata": {},
   "source": [
    "Los datos los hemos extraído de https://archive.ics.uci.edu/ml/datasets/Acute+Inflammations"
   ]
  },
  {
   "cell_type": "code",
   "execution_count": 13,
   "metadata": {},
   "outputs": [
    {
     "data": {
      "text/html": [
       "<div>\n",
       "<style scoped>\n",
       "    .dataframe tbody tr th:only-of-type {\n",
       "        vertical-align: middle;\n",
       "    }\n",
       "\n",
       "    .dataframe tbody tr th {\n",
       "        vertical-align: top;\n",
       "    }\n",
       "\n",
       "    .dataframe thead th {\n",
       "        text-align: right;\n",
       "    }\n",
       "</style>\n",
       "<table border=\"1\" class=\"dataframe\">\n",
       "  <thead>\n",
       "    <tr style=\"text-align: right;\">\n",
       "      <th></th>\n",
       "      <th>temperature</th>\n",
       "      <th>occurrence_of_nausea</th>\n",
       "      <th>lumbar_pain</th>\n",
       "      <th>urine_pushing</th>\n",
       "      <th>micturition_pains</th>\n",
       "      <th>burning_of_urethra</th>\n",
       "      <th>nephritis_of_renal_pelvis_origin</th>\n",
       "      <th>inflammation_of_urinary_bladder</th>\n",
       "    </tr>\n",
       "  </thead>\n",
       "  <tbody>\n",
       "    <tr>\n",
       "      <th>0</th>\n",
       "      <td>35.5</td>\n",
       "      <td>no</td>\n",
       "      <td>yes</td>\n",
       "      <td>no</td>\n",
       "      <td>no</td>\n",
       "      <td>no</td>\n",
       "      <td>no</td>\n",
       "      <td>no</td>\n",
       "    </tr>\n",
       "    <tr>\n",
       "      <th>1</th>\n",
       "      <td>35.9</td>\n",
       "      <td>no</td>\n",
       "      <td>no</td>\n",
       "      <td>yes</td>\n",
       "      <td>yes</td>\n",
       "      <td>yes</td>\n",
       "      <td>no</td>\n",
       "      <td>yes</td>\n",
       "    </tr>\n",
       "    <tr>\n",
       "      <th>2</th>\n",
       "      <td>35.9</td>\n",
       "      <td>no</td>\n",
       "      <td>yes</td>\n",
       "      <td>no</td>\n",
       "      <td>no</td>\n",
       "      <td>no</td>\n",
       "      <td>no</td>\n",
       "      <td>no</td>\n",
       "    </tr>\n",
       "    <tr>\n",
       "      <th>3</th>\n",
       "      <td>36.0</td>\n",
       "      <td>no</td>\n",
       "      <td>no</td>\n",
       "      <td>yes</td>\n",
       "      <td>yes</td>\n",
       "      <td>yes</td>\n",
       "      <td>no</td>\n",
       "      <td>yes</td>\n",
       "    </tr>\n",
       "    <tr>\n",
       "      <th>4</th>\n",
       "      <td>36.0</td>\n",
       "      <td>no</td>\n",
       "      <td>yes</td>\n",
       "      <td>no</td>\n",
       "      <td>no</td>\n",
       "      <td>no</td>\n",
       "      <td>no</td>\n",
       "      <td>no</td>\n",
       "    </tr>\n",
       "  </tbody>\n",
       "</table>\n",
       "</div>"
      ],
      "text/plain": [
       "   temperature  occurrence_of_nausea  lumbar_pain  urine_pushing  \\\n",
       "0         35.5                    no          yes             no   \n",
       "1         35.9                    no           no            yes   \n",
       "2         35.9                    no          yes             no   \n",
       "3         36.0                    no           no            yes   \n",
       "4         36.0                    no          yes             no   \n",
       "\n",
       "   micturition_pains  burning_of_urethra  nephritis_of_renal_pelvis_origin  \\\n",
       "0                 no                  no                                no   \n",
       "1                yes                 yes                                no   \n",
       "2                 no                  no                                no   \n",
       "3                yes                 yes                                no   \n",
       "4                 no                  no                                no   \n",
       "\n",
       "   inflammation_of_urinary_bladder  \n",
       "0                               no  \n",
       "1                              yes  \n",
       "2                               no  \n",
       "3                              yes  \n",
       "4                               no  "
      ]
     },
     "execution_count": 13,
     "metadata": {},
     "output_type": "execute_result"
    }
   ],
   "source": [
    "diagnostic = pd.read_csv('urinary_inflammation.csv', sep = ';')\n",
    "diagnostic.head()"
   ]
  },
  {
   "cell_type": "markdown",
   "metadata": {},
   "source": [
    "Vamos a cambiar las variables bivalentes por enteros: yes=1 y no=0"
   ]
  },
  {
   "cell_type": "code",
   "execution_count": 14,
   "metadata": {},
   "outputs": [
    {
     "data": {
      "text/html": [
       "<div>\n",
       "<style scoped>\n",
       "    .dataframe tbody tr th:only-of-type {\n",
       "        vertical-align: middle;\n",
       "    }\n",
       "\n",
       "    .dataframe tbody tr th {\n",
       "        vertical-align: top;\n",
       "    }\n",
       "\n",
       "    .dataframe thead th {\n",
       "        text-align: right;\n",
       "    }\n",
       "</style>\n",
       "<table border=\"1\" class=\"dataframe\">\n",
       "  <thead>\n",
       "    <tr style=\"text-align: right;\">\n",
       "      <th></th>\n",
       "      <th>temperature</th>\n",
       "      <th>occurrence_of_nausea</th>\n",
       "      <th>lumbar_pain</th>\n",
       "      <th>urine_pushing</th>\n",
       "      <th>micturition_pains</th>\n",
       "      <th>burning_of_urethra</th>\n",
       "      <th>nephritis_of_renal_pelvis_origin</th>\n",
       "      <th>inflammation_of_urinary_bladder</th>\n",
       "    </tr>\n",
       "  </thead>\n",
       "  <tbody>\n",
       "    <tr>\n",
       "      <th>0</th>\n",
       "      <td>35.5</td>\n",
       "      <td>0</td>\n",
       "      <td>1</td>\n",
       "      <td>0</td>\n",
       "      <td>0</td>\n",
       "      <td>0</td>\n",
       "      <td>0</td>\n",
       "      <td>0</td>\n",
       "    </tr>\n",
       "    <tr>\n",
       "      <th>1</th>\n",
       "      <td>35.9</td>\n",
       "      <td>0</td>\n",
       "      <td>0</td>\n",
       "      <td>1</td>\n",
       "      <td>1</td>\n",
       "      <td>1</td>\n",
       "      <td>0</td>\n",
       "      <td>1</td>\n",
       "    </tr>\n",
       "    <tr>\n",
       "      <th>2</th>\n",
       "      <td>35.9</td>\n",
       "      <td>0</td>\n",
       "      <td>1</td>\n",
       "      <td>0</td>\n",
       "      <td>0</td>\n",
       "      <td>0</td>\n",
       "      <td>0</td>\n",
       "      <td>0</td>\n",
       "    </tr>\n",
       "    <tr>\n",
       "      <th>3</th>\n",
       "      <td>36.0</td>\n",
       "      <td>0</td>\n",
       "      <td>0</td>\n",
       "      <td>1</td>\n",
       "      <td>1</td>\n",
       "      <td>1</td>\n",
       "      <td>0</td>\n",
       "      <td>1</td>\n",
       "    </tr>\n",
       "    <tr>\n",
       "      <th>4</th>\n",
       "      <td>36.0</td>\n",
       "      <td>0</td>\n",
       "      <td>1</td>\n",
       "      <td>0</td>\n",
       "      <td>0</td>\n",
       "      <td>0</td>\n",
       "      <td>0</td>\n",
       "      <td>0</td>\n",
       "    </tr>\n",
       "  </tbody>\n",
       "</table>\n",
       "</div>"
      ],
      "text/plain": [
       "   temperature  occurrence_of_nausea  lumbar_pain  urine_pushing  \\\n",
       "0         35.5                     0            1              0   \n",
       "1         35.9                     0            0              1   \n",
       "2         35.9                     0            1              0   \n",
       "3         36.0                     0            0              1   \n",
       "4         36.0                     0            1              0   \n",
       "\n",
       "   micturition_pains  burning_of_urethra  nephritis_of_renal_pelvis_origin  \\\n",
       "0                  0                   0                                 0   \n",
       "1                  1                   1                                 0   \n",
       "2                  0                   0                                 0   \n",
       "3                  1                   1                                 0   \n",
       "4                  0                   0                                 0   \n",
       "\n",
       "   inflammation_of_urinary_bladder  \n",
       "0                                0  \n",
       "1                                1  \n",
       "2                                0  \n",
       "3                                1  \n",
       "4                                0  "
      ]
     },
     "execution_count": 14,
     "metadata": {},
     "output_type": "execute_result"
    }
   ],
   "source": [
    "diagnostic = diagnostic.replace(to_replace = ['yes','no'],value = ['1','0'])\n",
    "diagnostic.head()"
   ]
  },
  {
   "cell_type": "markdown",
   "metadata": {},
   "source": [
    "Renombramos las columnas para facilitar el trabajo con las variables:\n",
    "\n",
    "* a1: temperatura del paciente\n",
    "* a2: ocurrencia de nauseas\n",
    "* a3: dolor lumbar\n",
    "* a4: necesidad continua de orinar\n",
    "* a5: dolores miccionales\n",
    "* a6: ardor de la uretra, picazón o hinchazón de la salida de la uretra\n",
    "\n",
    "Las enfermedades que se desean evaluar son:\n",
    "\n",
    "* d1: inflamación de la vejiga urinaria\n",
    "* d2: nefritis de origen en la pelvis renal"
   ]
  },
  {
   "cell_type": "code",
   "execution_count": 15,
   "metadata": {},
   "outputs": [
    {
     "data": {
      "text/plain": [
       "Index(['temperature', ' occurrence_of_nausea', ' lumbar_pain',\n",
       "       ' urine_pushing', ' micturition_pains', ' burning_of_urethra',\n",
       "       ' nephritis_of_renal_pelvis_origin',\n",
       "       ' inflammation_of_urinary_bladder'],\n",
       "      dtype='object')"
      ]
     },
     "execution_count": 15,
     "metadata": {},
     "output_type": "execute_result"
    }
   ],
   "source": [
    "diagnostic.columns"
   ]
  },
  {
   "cell_type": "code",
   "execution_count": 16,
   "metadata": {},
   "outputs": [
    {
     "data": {
      "text/html": [
       "<div>\n",
       "<style scoped>\n",
       "    .dataframe tbody tr th:only-of-type {\n",
       "        vertical-align: middle;\n",
       "    }\n",
       "\n",
       "    .dataframe tbody tr th {\n",
       "        vertical-align: top;\n",
       "    }\n",
       "\n",
       "    .dataframe thead th {\n",
       "        text-align: right;\n",
       "    }\n",
       "</style>\n",
       "<table border=\"1\" class=\"dataframe\">\n",
       "  <thead>\n",
       "    <tr style=\"text-align: right;\">\n",
       "      <th></th>\n",
       "      <th>a1</th>\n",
       "      <th>a2</th>\n",
       "      <th>a3</th>\n",
       "      <th>a4</th>\n",
       "      <th>a5</th>\n",
       "      <th>a6</th>\n",
       "      <th>d2</th>\n",
       "      <th>d1</th>\n",
       "    </tr>\n",
       "  </thead>\n",
       "  <tbody>\n",
       "    <tr>\n",
       "      <th>0</th>\n",
       "      <td>35.5</td>\n",
       "      <td>0</td>\n",
       "      <td>1</td>\n",
       "      <td>0</td>\n",
       "      <td>0</td>\n",
       "      <td>0</td>\n",
       "      <td>0</td>\n",
       "      <td>0</td>\n",
       "    </tr>\n",
       "    <tr>\n",
       "      <th>1</th>\n",
       "      <td>35.9</td>\n",
       "      <td>0</td>\n",
       "      <td>0</td>\n",
       "      <td>1</td>\n",
       "      <td>1</td>\n",
       "      <td>1</td>\n",
       "      <td>0</td>\n",
       "      <td>1</td>\n",
       "    </tr>\n",
       "    <tr>\n",
       "      <th>2</th>\n",
       "      <td>35.9</td>\n",
       "      <td>0</td>\n",
       "      <td>1</td>\n",
       "      <td>0</td>\n",
       "      <td>0</td>\n",
       "      <td>0</td>\n",
       "      <td>0</td>\n",
       "      <td>0</td>\n",
       "    </tr>\n",
       "    <tr>\n",
       "      <th>3</th>\n",
       "      <td>36.0</td>\n",
       "      <td>0</td>\n",
       "      <td>0</td>\n",
       "      <td>1</td>\n",
       "      <td>1</td>\n",
       "      <td>1</td>\n",
       "      <td>0</td>\n",
       "      <td>1</td>\n",
       "    </tr>\n",
       "    <tr>\n",
       "      <th>4</th>\n",
       "      <td>36.0</td>\n",
       "      <td>0</td>\n",
       "      <td>1</td>\n",
       "      <td>0</td>\n",
       "      <td>0</td>\n",
       "      <td>0</td>\n",
       "      <td>0</td>\n",
       "      <td>0</td>\n",
       "    </tr>\n",
       "  </tbody>\n",
       "</table>\n",
       "</div>"
      ],
      "text/plain": [
       "     a1 a2 a3 a4 a5 a6 d2 d1\n",
       "0  35.5  0  1  0  0  0  0  0\n",
       "1  35.9  0  0  1  1  1  0  1\n",
       "2  35.9  0  1  0  0  0  0  0\n",
       "3  36.0  0  0  1  1  1  0  1\n",
       "4  36.0  0  1  0  0  0  0  0"
      ]
     },
     "execution_count": 16,
     "metadata": {},
     "output_type": "execute_result"
    }
   ],
   "source": [
    "diagnostic = diagnostic.rename({'temperature': 'a1', ' occurrence_of_nausea': 'a2', ' lumbar_pain':'a3', ' urine_pushing':'a4',\n",
    "                               ' micturition_pains': 'a5', ' burning_of_urethra': 'a6', \n",
    "                                ' nephritis_of_renal_pelvis_origin':'d2',' inflammation_of_urinary_bladder':'d1'}, axis=1)\n",
    "diagnostic.head()"
   ]
  },
  {
   "cell_type": "markdown",
   "metadata": {},
   "source": [
    "Se ha de separar las variables objetivo y las características disponibles para la creación del modelo. En este el enunciado dice que hay dos variables objetivo `d1` y `d2`."
   ]
  },
  {
   "cell_type": "code",
   "execution_count": 17,
   "metadata": {},
   "outputs": [
    {
     "name": "stdout",
     "output_type": "stream",
     "text": [
      "<class 'pandas.core.frame.DataFrame'>\n",
      "RangeIndex: 120 entries, 0 to 119\n",
      "Data columns (total 8 columns):\n",
      " #   Column  Non-Null Count  Dtype  \n",
      "---  ------  --------------  -----  \n",
      " 0   a1      120 non-null    float64\n",
      " 1   a2      120 non-null    object \n",
      " 2   a3      120 non-null    object \n",
      " 3   a4      120 non-null    object \n",
      " 4   a5      120 non-null    object \n",
      " 5   a6      120 non-null    object \n",
      " 6   d2      120 non-null    object \n",
      " 7   d1      120 non-null    object \n",
      "dtypes: float64(1), object(7)\n",
      "memory usage: 7.6+ KB\n"
     ]
    }
   ],
   "source": [
    "diagnostic.info()"
   ]
  },
  {
   "cell_type": "markdown",
   "metadata": {},
   "source": [
    "Vemos que el tipo de las variables es recomendable homogeneizarlo y ponerlo en formato de enteros"
   ]
  },
  {
   "cell_type": "code",
   "execution_count": 18,
   "metadata": {},
   "outputs": [],
   "source": [
    "diagnostic = diagnostic.apply(pd.to_numeric)"
   ]
  },
  {
   "cell_type": "code",
   "execution_count": 19,
   "metadata": {},
   "outputs": [
    {
     "name": "stdout",
     "output_type": "stream",
     "text": [
      "<class 'pandas.core.frame.DataFrame'>\n",
      "RangeIndex: 120 entries, 0 to 119\n",
      "Data columns (total 8 columns):\n",
      " #   Column  Non-Null Count  Dtype  \n",
      "---  ------  --------------  -----  \n",
      " 0   a1      120 non-null    float64\n",
      " 1   a2      120 non-null    int64  \n",
      " 2   a3      120 non-null    int64  \n",
      " 3   a4      120 non-null    int64  \n",
      " 4   a5      120 non-null    int64  \n",
      " 5   a6      120 non-null    int64  \n",
      " 6   d2      120 non-null    int64  \n",
      " 7   d1      120 non-null    int64  \n",
      "dtypes: float64(1), int64(7)\n",
      "memory usage: 7.6 KB\n"
     ]
    }
   ],
   "source": [
    "diagnostic.info()"
   ]
  },
  {
   "cell_type": "code",
   "execution_count": 20,
   "metadata": {},
   "outputs": [],
   "source": [
    "target_1 = 'd1'\n",
    "target_2 = 'd2'\n",
    "features = list(diagnostic.columns)\n",
    "features.remove('d1')\n",
    "features.remove('d2')"
   ]
  },
  {
   "cell_type": "code",
   "execution_count": 21,
   "metadata": {},
   "outputs": [
    {
     "data": {
      "text/html": [
       "<div>\n",
       "<style scoped>\n",
       "    .dataframe tbody tr th:only-of-type {\n",
       "        vertical-align: middle;\n",
       "    }\n",
       "\n",
       "    .dataframe tbody tr th {\n",
       "        vertical-align: top;\n",
       "    }\n",
       "\n",
       "    .dataframe thead th {\n",
       "        text-align: right;\n",
       "    }\n",
       "</style>\n",
       "<table border=\"1\" class=\"dataframe\">\n",
       "  <thead>\n",
       "    <tr style=\"text-align: right;\">\n",
       "      <th></th>\n",
       "      <th>a1</th>\n",
       "      <th>a2</th>\n",
       "      <th>a3</th>\n",
       "      <th>a4</th>\n",
       "      <th>a5</th>\n",
       "      <th>a6</th>\n",
       "      <th>d2</th>\n",
       "      <th>d1</th>\n",
       "    </tr>\n",
       "  </thead>\n",
       "  <tbody>\n",
       "    <tr>\n",
       "      <th>count</th>\n",
       "      <td>120.000000</td>\n",
       "      <td>120.000000</td>\n",
       "      <td>120.000000</td>\n",
       "      <td>120.000000</td>\n",
       "      <td>120.000000</td>\n",
       "      <td>120.000000</td>\n",
       "      <td>120.000000</td>\n",
       "      <td>120.000000</td>\n",
       "    </tr>\n",
       "    <tr>\n",
       "      <th>mean</th>\n",
       "      <td>38.724167</td>\n",
       "      <td>0.241667</td>\n",
       "      <td>0.583333</td>\n",
       "      <td>0.666667</td>\n",
       "      <td>0.491667</td>\n",
       "      <td>0.416667</td>\n",
       "      <td>0.416667</td>\n",
       "      <td>0.491667</td>\n",
       "    </tr>\n",
       "    <tr>\n",
       "      <th>std</th>\n",
       "      <td>1.819132</td>\n",
       "      <td>0.429888</td>\n",
       "      <td>0.495074</td>\n",
       "      <td>0.473381</td>\n",
       "      <td>0.502027</td>\n",
       "      <td>0.495074</td>\n",
       "      <td>0.495074</td>\n",
       "      <td>0.502027</td>\n",
       "    </tr>\n",
       "    <tr>\n",
       "      <th>min</th>\n",
       "      <td>35.500000</td>\n",
       "      <td>0.000000</td>\n",
       "      <td>0.000000</td>\n",
       "      <td>0.000000</td>\n",
       "      <td>0.000000</td>\n",
       "      <td>0.000000</td>\n",
       "      <td>0.000000</td>\n",
       "      <td>0.000000</td>\n",
       "    </tr>\n",
       "    <tr>\n",
       "      <th>25%</th>\n",
       "      <td>37.100000</td>\n",
       "      <td>0.000000</td>\n",
       "      <td>0.000000</td>\n",
       "      <td>0.000000</td>\n",
       "      <td>0.000000</td>\n",
       "      <td>0.000000</td>\n",
       "      <td>0.000000</td>\n",
       "      <td>0.000000</td>\n",
       "    </tr>\n",
       "    <tr>\n",
       "      <th>50%</th>\n",
       "      <td>37.950000</td>\n",
       "      <td>0.000000</td>\n",
       "      <td>1.000000</td>\n",
       "      <td>1.000000</td>\n",
       "      <td>0.000000</td>\n",
       "      <td>0.000000</td>\n",
       "      <td>0.000000</td>\n",
       "      <td>0.000000</td>\n",
       "    </tr>\n",
       "    <tr>\n",
       "      <th>75%</th>\n",
       "      <td>40.600000</td>\n",
       "      <td>0.000000</td>\n",
       "      <td>1.000000</td>\n",
       "      <td>1.000000</td>\n",
       "      <td>1.000000</td>\n",
       "      <td>1.000000</td>\n",
       "      <td>1.000000</td>\n",
       "      <td>1.000000</td>\n",
       "    </tr>\n",
       "    <tr>\n",
       "      <th>max</th>\n",
       "      <td>41.500000</td>\n",
       "      <td>1.000000</td>\n",
       "      <td>1.000000</td>\n",
       "      <td>1.000000</td>\n",
       "      <td>1.000000</td>\n",
       "      <td>1.000000</td>\n",
       "      <td>1.000000</td>\n",
       "      <td>1.000000</td>\n",
       "    </tr>\n",
       "  </tbody>\n",
       "</table>\n",
       "</div>"
      ],
      "text/plain": [
       "               a1          a2          a3          a4          a5          a6  \\\n",
       "count  120.000000  120.000000  120.000000  120.000000  120.000000  120.000000   \n",
       "mean    38.724167    0.241667    0.583333    0.666667    0.491667    0.416667   \n",
       "std      1.819132    0.429888    0.495074    0.473381    0.502027    0.495074   \n",
       "min     35.500000    0.000000    0.000000    0.000000    0.000000    0.000000   \n",
       "25%     37.100000    0.000000    0.000000    0.000000    0.000000    0.000000   \n",
       "50%     37.950000    0.000000    1.000000    1.000000    0.000000    0.000000   \n",
       "75%     40.600000    0.000000    1.000000    1.000000    1.000000    1.000000   \n",
       "max     41.500000    1.000000    1.000000    1.000000    1.000000    1.000000   \n",
       "\n",
       "               d2          d1  \n",
       "count  120.000000  120.000000  \n",
       "mean     0.416667    0.491667  \n",
       "std      0.495074    0.502027  \n",
       "min      0.000000    0.000000  \n",
       "25%      0.000000    0.000000  \n",
       "50%      0.000000    0.000000  \n",
       "75%      1.000000    1.000000  \n",
       "max      1.000000    1.000000  "
      ]
     },
     "execution_count": 21,
     "metadata": {},
     "output_type": "execute_result"
    }
   ],
   "source": [
    "diagnostic.describe()"
   ]
  },
  {
   "cell_type": "markdown",
   "metadata": {},
   "source": [
    "Intento comprobar en una primera aproximación la forma de los datos mediante el histograma de las distintas variables."
   ]
  },
  {
   "cell_type": "code",
   "execution_count": 27,
   "metadata": {},
   "outputs": [
    {
     "data": {
      "image/png": "[encoded data removed]",
      "text/plain": [
       "<Figure size 864x864 with 9 Axes>"
      ]
     },
     "metadata": {
      "needs_background": "light"
     },
     "output_type": "display_data"
    }
   ],
   "source": [
    "diagnostic.hist(figsize = (12, 12), color='g', alpha= 0.7);"
   ]
  },
  {
   "cell_type": "markdown",
   "metadata": {},
   "source": [
    "Observamos la colinealidad de las variables: No parece que exista correlación entre las variables que podamos eliminar"
   ]
  },
  {
   "cell_type": "code",
   "execution_count": 35,
   "metadata": {},
   "outputs": [
    {
     "data": {
      "image/png": "[encoded data removed]",
      "text/plain": [
       "<Figure size 432x288 with 2 Axes>"
      ]
     },
     "metadata": {
      "needs_background": "light"
     },
     "output_type": "display_data"
    }
   ],
   "source": [
    "from seaborn import heatmap\n",
    "heatmap(diagnostic[features].corr(), annot = True);"
   ]
  },
  {
   "cell_type": "markdown",
   "metadata": {},
   "source": [
    "### Selección de características\n",
    "Una vez importados los datos se han de seleccionar las características más adecuadas para el modelo.  "
   ]
  },
  {
   "cell_type": "markdown",
   "metadata": {},
   "source": [
    "#### Análisis de relevancia de atributos en Python - IV y WoE  \n",
    "Referencia: https://towardsdatascience.com/attribute-relevance-analysis-in-python-iv-and-woe-b5651443fc04  \n",
    "\n",
    "La fase de análisis de relevancia de atributos tiene la tarea de reconocer atributos (características) con mayor impacto en la predicción de la variable/s objetivo. Se basa en dos términos: **Valor de la Información** (IV - Information Value) y **Peso de la evidencia** (WoE - Weith of Evidence).  \n",
    "\n",
    "**WoE** = El peso de la evidencia indica el poder predictivo de una variable independiente en relación con la variable dependiente. Se usa para las variables continuas o las variables ficcticias distribuidas en contenedores deribadas de ellas.  \n",
    "**IV** = El valor de la información sirve para seleccionar variables importantes en un modelo predictivo. Ayuda a clasificar las variables en función de su importancia. Se usan para las variables categóricas, normalmente dummies."
   ]
  },
  {
   "cell_type": "markdown",
   "metadata": {},
   "source": [
    "![WoE y IV Formulas](images/WoE_IV_formulas.png)"
   ]
  },
  {
   "cell_type": "markdown",
   "metadata": {},
   "source": [
    "#### Prerequisitos de los datos para calcular correctamente IV y WoE  \n",
    "- El conjunto de datos debe **estar limpio**. Los datos faltantes deben tener la etiqueta correspondiente \"Nan\" o \"Faltante\"\n",
    "- No debe haber **ningún atributo continuo**. Los atributos continuos deben agruparse en 5 a 10 contenedores. Solo asegúrese de que cada contenedor tenga al menos el 5% de las observaciones.  "
   ]
  },
  {
   "cell_type": "code",
   "execution_count": 34,
   "metadata": {},
   "outputs": [],
   "source": [
    "#Función del Valor de la Información\n",
    "def calculateIV(data, features, target):\n",
    "    result = pd.DataFrame(index = ['IV'], columns = features)\n",
    "    result = result.fillna(0)\n",
    "    var_target = array(data[target])\n",
    "    \n",
    "    for cat in features:\n",
    "        var_values = array(data[cat])\n",
    "        var_levels = unique(var_values)\n",
    "\n",
    "        mat_values = numpy.zeros(shape=(len(var_levels),2))\n",
    "        \n",
    "        for i in range(len(var_target)):\n",
    "            for j in range(len(var_levels)):\n",
    "                if var_levels[j] == var_values[i]:\n",
    "                    pos = j\n",
    "                    break\n",
    "\n",
    "            # Estimación del número valores en cada nivel\n",
    "            if var_target[i]:\n",
    "                mat_values[pos][0] += 1\n",
    "            else:\n",
    "                mat_values[pos][1] += 1\n",
    "\n",
    "            # Obtención del IV\n",
    "            IV = 0\n",
    "            for j in range(len(var_levels)):\n",
    "                if mat_values[j][0] > 0 and mat_values[j][1] > 0:\n",
    "                    rt = mat_values[j][0] / (mat_values[j][0] + mat_values[j][1])\n",
    "                    rf = mat_values[j][1] / (mat_values[j][0] + mat_values[j][1])\n",
    "                    IV += (rt - rf) * np.log(rt / rf)\n",
    "                    \n",
    "        # Se agrega el IV al listado\n",
    "        result[cat] = IV\n",
    "        \n",
    "    return result"
   ]
  },
  {
   "cell_type": "code",
   "execution_count": 58,
   "metadata": {},
   "outputs": [],
   "source": [
    "def get_WoE(data, var, target):\n",
    "    crosstab = pd.crosstab(data[target], data[var])\n",
    "    \n",
    "    print(\"Obteniendo el Woe para la variable\", var, \":\")\n",
    "    \n",
    "    for col in crosstab.columns:\n",
    "        if crosstab[col][1] == 0:\n",
    "            print(\"  El WoE para\", col, \"[\", sum(crosstab[col]), \"] es infinito\")\n",
    "        else:\n",
    "            print(\"  El WoE para\", col, \"[\", sum(crosstab[col]), \"] es\", np.log(float(crosstab[col][0]) / float(crosstab[col][1])))"
   ]
  },
  {
   "cell_type": "code",
   "execution_count": 27,
   "metadata": {},
   "outputs": [
    {
     "data": {
      "text/plain": [
       "a1    0\n",
       "a2    0\n",
       "a3    0\n",
       "a4    0\n",
       "a5    0\n",
       "a6    0\n",
       "d2    0\n",
       "d1    0\n",
       "dtype: int64"
      ]
     },
     "execution_count": 27,
     "metadata": {},
     "output_type": "execute_result"
    }
   ],
   "source": [
    "#Valores Faltantes\n",
    "diagnostic.isnull().sum()"
   ]
  },
  {
   "cell_type": "markdown",
   "metadata": {},
   "source": [
    "Se cumple el primer punto al no existir valores faltantes"
   ]
  },
  {
   "cell_type": "markdown",
   "metadata": {},
   "source": [
    "Para el segundo requisito vamos a diferenciar las continuas (a1) de las variables categóricas (resto)."
   ]
  },
  {
   "cell_type": "code",
   "execution_count": 74,
   "metadata": {},
   "outputs": [],
   "source": [
    "continuous = ['a1']\n",
    "\n",
    "categorical_1 = features[:]\n",
    "categorical_1.remove('a1')\n",
    "categorical_2 = categorical_1[:] #Es una copia para valorar sobre la target_2"
   ]
  },
  {
   "cell_type": "markdown",
   "metadata": {},
   "source": [
    "Cálculamos IV para la **primera variable objetivo (target_1)**:"
   ]
  },
  {
   "cell_type": "code",
   "execution_count": 75,
   "metadata": {},
   "outputs": [
    {
     "data": {
      "text/html": [
       "<div>\n",
       "<style scoped>\n",
       "    .dataframe tbody tr th:only-of-type {\n",
       "        vertical-align: middle;\n",
       "    }\n",
       "\n",
       "    .dataframe tbody tr th {\n",
       "        vertical-align: top;\n",
       "    }\n",
       "\n",
       "    .dataframe thead th {\n",
       "        text-align: right;\n",
       "    }\n",
       "</style>\n",
       "<table border=\"1\" class=\"dataframe\">\n",
       "  <thead>\n",
       "    <tr style=\"text-align: right;\">\n",
       "      <th></th>\n",
       "      <th>a2</th>\n",
       "      <th>a3</th>\n",
       "      <th>a4</th>\n",
       "      <th>a5</th>\n",
       "      <th>a6</th>\n",
       "    </tr>\n",
       "  </thead>\n",
       "  <tbody>\n",
       "    <tr>\n",
       "      <th>IV</th>\n",
       "      <td>0.228563</td>\n",
       "      <td>1.283153</td>\n",
       "      <td>0.490682</td>\n",
       "      <td>2.145575</td>\n",
       "      <td>0.092741</td>\n",
       "    </tr>\n",
       "  </tbody>\n",
       "</table>\n",
       "</div>"
      ],
      "text/plain": [
       "          a2        a3        a4        a5        a6\n",
       "IV  0.228563  1.283153  0.490682  2.145575  0.092741"
      ]
     },
     "execution_count": 75,
     "metadata": {},
     "output_type": "execute_result"
    }
   ],
   "source": [
    "calculateIV(diagnostic, categorical_1, target_1)"
   ]
  },
  {
   "cell_type": "markdown",
   "metadata": {},
   "source": [
    "Interpretamos los valores obtenidos de la IV: Por debajo de 0.1 puede ser un mal predictor.  \n",
    "Por tanto podemos eliminar la variable a6"
   ]
  },
  {
   "cell_type": "code",
   "execution_count": 76,
   "metadata": {},
   "outputs": [],
   "source": [
    "categorical_1.remove('a6')"
   ]
  },
  {
   "cell_type": "markdown",
   "metadata": {},
   "source": [
    "Cálculamos IV para la **segunda variable objetivo (target_2)**:"
   ]
  },
  {
   "cell_type": "code",
   "execution_count": 77,
   "metadata": {},
   "outputs": [
    {
     "data": {
      "text/html": [
       "<div>\n",
       "<style scoped>\n",
       "    .dataframe tbody tr th:only-of-type {\n",
       "        vertical-align: middle;\n",
       "    }\n",
       "\n",
       "    .dataframe tbody tr th {\n",
       "        vertical-align: top;\n",
       "    }\n",
       "\n",
       "    .dataframe thead th {\n",
       "        text-align: right;\n",
       "    }\n",
       "</style>\n",
       "<table border=\"1\" class=\"dataframe\">\n",
       "  <thead>\n",
       "    <tr style=\"text-align: right;\">\n",
       "      <th></th>\n",
       "      <th>a2</th>\n",
       "      <th>a3</th>\n",
       "      <th>a4</th>\n",
       "      <th>a5</th>\n",
       "      <th>a6</th>\n",
       "    </tr>\n",
       "  </thead>\n",
       "  <tbody>\n",
       "    <tr>\n",
       "      <th>IV</th>\n",
       "      <td>0.648293</td>\n",
       "      <td>0.392696</td>\n",
       "      <td>0.549306</td>\n",
       "      <td>0.201276</td>\n",
       "      <td>0.473789</td>\n",
       "    </tr>\n",
       "  </tbody>\n",
       "</table>\n",
       "</div>"
      ],
      "text/plain": [
       "          a2        a3        a4        a5        a6\n",
       "IV  0.648293  0.392696  0.549306  0.201276  0.473789"
      ]
     },
     "execution_count": 77,
     "metadata": {},
     "output_type": "execute_result"
    }
   ],
   "source": [
    "calculateIV(diagnostic, categorical_2, target_2)"
   ]
  },
  {
   "cell_type": "markdown",
   "metadata": {},
   "source": [
    "En este caso ninguna de las variables está por debajo de 0.1 por lo que las consideramos buenas predictoras. Los valores de IV se pueden considerar promedio o superior. "
   ]
  },
  {
   "cell_type": "markdown",
   "metadata": {},
   "source": [
    "#### Análisis de la variable continua"
   ]
  },
  {
   "cell_type": "markdown",
   "metadata": {},
   "source": [
    "Analizamos la variable a1 de la temperatura. Se puede analizar si esta se puede discretizar o se puede introducir directamente en cada uno de los modelo."
   ]
  },
  {
   "cell_type": "code",
   "execution_count": 47,
   "metadata": {},
   "outputs": [
    {
     "data": {
      "text/plain": [
       "Text(0.5, 1.0, \"['a1']\")"
      ]
     },
     "execution_count": 47,
     "metadata": {},
     "output_type": "execute_result"
    },
    {
     "data": {
      "image/png": "[encoded data removed]",
      "text/plain": [
       "<Figure size 432x288 with 2 Axes>"
      ]
     },
     "metadata": {
      "needs_background": "light"
     },
     "output_type": "display_data"
    }
   ],
   "source": [
    "f, axarr = plt.subplots(2, sharex = True)\n",
    "\n",
    "axarr[0].hist(double(diagnostic[continuous][diagnostic[target_1]==0]))\n",
    "axarr[1].hist(double(diagnostic[continuous][diagnostic[target_1]==1]))\n",
    "\n",
    "axarr[0].set_ylabel('False')\n",
    "axarr[1].set_ylabel('True')\n",
    "axarr[0].set_title(continuous)"
   ]
  },
  {
   "cell_type": "markdown",
   "metadata": {},
   "source": [
    "En este caso se puede ver que la predicción depende de forma no lineal con la temperatura. Por lo menos existen 4 categorías: hasta 37, de 37 a 38, de 38 a 40 y más de 40."
   ]
  },
  {
   "cell_type": "markdown",
   "metadata": {},
   "source": [
    "#### target_1"
   ]
  },
  {
   "cell_type": "markdown",
   "metadata": {},
   "source": [
    "Discretización por método automático"
   ]
  },
  {
   "cell_type": "code",
   "execution_count": 55,
   "metadata": {},
   "outputs": [],
   "source": [
    "diagnostic['a1_g1'] = pd.qcut(diagnostic['a1'], 4, labels=['n0', 'n1', 'n2', 'n3'])"
   ]
  },
  {
   "cell_type": "code",
   "execution_count": 60,
   "metadata": {},
   "outputs": [
    {
     "name": "stdout",
     "output_type": "stream",
     "text": [
      "Obteniendo el Woe para la variable a1_g1 :\n",
      "  El WoE para n0 [ 31 ] es -0.4595323293784402\n",
      "  El WoE para n1 [ 29 ] es -0.9650808960435872\n",
      "  El WoE para n2 [ 32 ] es 0.7884573603642703\n",
      "  El WoE para n3 [ 28 ] es 0.7472144018302211\n"
     ]
    },
    {
     "data": {
      "text/html": [
       "<div>\n",
       "<style scoped>\n",
       "    .dataframe tbody tr th:only-of-type {\n",
       "        vertical-align: middle;\n",
       "    }\n",
       "\n",
       "    .dataframe tbody tr th {\n",
       "        vertical-align: top;\n",
       "    }\n",
       "\n",
       "    .dataframe thead th {\n",
       "        text-align: right;\n",
       "    }\n",
       "</style>\n",
       "<table border=\"1\" class=\"dataframe\">\n",
       "  <thead>\n",
       "    <tr style=\"text-align: right;\">\n",
       "      <th></th>\n",
       "      <th>a1_g1</th>\n",
       "    </tr>\n",
       "  </thead>\n",
       "  <tbody>\n",
       "    <tr>\n",
       "      <th>IV</th>\n",
       "      <td>1.098922</td>\n",
       "    </tr>\n",
       "  </tbody>\n",
       "</table>\n",
       "</div>"
      ],
      "text/plain": [
       "       a1_g1\n",
       "IV  1.098922"
      ]
     },
     "execution_count": 60,
     "metadata": {},
     "output_type": "execute_result"
    }
   ],
   "source": [
    "#Calculamos para esta variable WoE y IV para la primera variable objetivo (target_1)\n",
    "get_WoE(diagnostic, 'a1_g1', target_1)\n",
    "calculateIV(diagnostic, ['a1_g1'], target_1)"
   ]
  },
  {
   "cell_type": "markdown",
   "metadata": {},
   "source": [
    "Discretización por método dirigido"
   ]
  },
  {
   "cell_type": "code",
   "execution_count": 152,
   "metadata": {},
   "outputs": [],
   "source": [
    "#O podemos discretizar de forma dirigida\n",
    "diagnostic.loc[:, 'a1_g1_b'] = diagnostic['a1'].map(lambda x: 'n0' if x < 37 else 'n1' if x < 38 else 'n2' if x < 40 else 'n3')"
   ]
  },
  {
   "cell_type": "code",
   "execution_count": 153,
   "metadata": {},
   "outputs": [
    {
     "name": "stdout",
     "output_type": "stream",
     "text": [
      "Obteniendo el Woe para la variable a1_g1_b :\n",
      "  El WoE para n0 [ 20 ] es 0.0\n",
      "  El WoE para n1 [ 40 ] es -1.0986122886681098\n",
      "  El WoE para n2 [ 10 ] es infinito\n",
      "  El WoE para n3 [ 50 ] es 0.4895482253187058\n"
     ]
    },
    {
     "data": {
      "text/html": [
       "<div>\n",
       "<style scoped>\n",
       "    .dataframe tbody tr th:only-of-type {\n",
       "        vertical-align: middle;\n",
       "    }\n",
       "\n",
       "    .dataframe tbody tr th {\n",
       "        vertical-align: top;\n",
       "    }\n",
       "\n",
       "    .dataframe thead th {\n",
       "        text-align: right;\n",
       "    }\n",
       "</style>\n",
       "<table border=\"1\" class=\"dataframe\">\n",
       "  <thead>\n",
       "    <tr style=\"text-align: right;\">\n",
       "      <th></th>\n",
       "      <th>a1_g1_b</th>\n",
       "    </tr>\n",
       "  </thead>\n",
       "  <tbody>\n",
       "    <tr>\n",
       "      <th>IV</th>\n",
       "      <td>0.666798</td>\n",
       "    </tr>\n",
       "  </tbody>\n",
       "</table>\n",
       "</div>"
      ],
      "text/plain": [
       "     a1_g1_b\n",
       "IV  0.666798"
      ]
     },
     "execution_count": 153,
     "metadata": {},
     "output_type": "execute_result"
    }
   ],
   "source": [
    "get_WoE(diagnostic, 'a1_g1_b', target_1)\n",
    "calculateIV(diagnostic, ['a1_g1_b'], target_1)"
   ]
  },
  {
   "cell_type": "markdown",
   "metadata": {},
   "source": [
    "Parece que es más idoneo los resultados con el método dirigido, dándonos un IV más ajustado. IV por encima de 1 puede ser demasiado bueno para ser verdad."
   ]
  },
  {
   "cell_type": "markdown",
   "metadata": {},
   "source": [
    "#### target_2"
   ]
  },
  {
   "cell_type": "code",
   "execution_count": 64,
   "metadata": {},
   "outputs": [
    {
     "data": {
      "text/plain": [
       "Text(0.5, 1.0, \"['a1']\")"
      ]
     },
     "execution_count": 64,
     "metadata": {},
     "output_type": "execute_result"
    },
    {
     "data": {
      "image/png": "[encoded data removed]",
      "text/plain": [
       "<Figure size 432x288 with 2 Axes>"
      ]
     },
     "metadata": {
      "needs_background": "light"
     },
     "output_type": "display_data"
    }
   ],
   "source": [
    "f, axarr = plt.subplots(2, sharex = True)\n",
    "\n",
    "axarr[0].hist(double(diagnostic[continuous][diagnostic[target_2]==0]))\n",
    "axarr[1].hist(double(diagnostic[continuous][diagnostic[target_2]==1]))\n",
    "\n",
    "axarr[0].set_ylabel('False')\n",
    "axarr[1].set_ylabel('True')\n",
    "axarr[0].set_title(continuous)"
   ]
  },
  {
   "cell_type": "markdown",
   "metadata": {},
   "source": [
    "Discretización con método automático"
   ]
  },
  {
   "cell_type": "code",
   "execution_count": 143,
   "metadata": {},
   "outputs": [],
   "source": [
    "diagnostic['a1_g2'] = pd.qcut(diagnostic['a1'], 2, labels=['n0', 'n1'])"
   ]
  },
  {
   "cell_type": "code",
   "execution_count": 144,
   "metadata": {},
   "outputs": [
    {
     "name": "stdout",
     "output_type": "stream",
     "text": [
      "Obteniendo el Woe para la variable a1_g2 :\n",
      "  El WoE para n0 [ 60 ] es infinito\n",
      "  El WoE para n1 [ 60 ] es -1.6094379124341003\n"
     ]
    },
    {
     "data": {
      "text/html": [
       "<div>\n",
       "<style scoped>\n",
       "    .dataframe tbody tr th:only-of-type {\n",
       "        vertical-align: middle;\n",
       "    }\n",
       "\n",
       "    .dataframe tbody tr th {\n",
       "        vertical-align: top;\n",
       "    }\n",
       "\n",
       "    .dataframe thead th {\n",
       "        text-align: right;\n",
       "    }\n",
       "</style>\n",
       "<table border=\"1\" class=\"dataframe\">\n",
       "  <thead>\n",
       "    <tr style=\"text-align: right;\">\n",
       "      <th></th>\n",
       "      <th>a1_g2</th>\n",
       "    </tr>\n",
       "  </thead>\n",
       "  <tbody>\n",
       "    <tr>\n",
       "      <th>IV</th>\n",
       "      <td>1.072959</td>\n",
       "    </tr>\n",
       "  </tbody>\n",
       "</table>\n",
       "</div>"
      ],
      "text/plain": [
       "       a1_g2\n",
       "IV  1.072959"
      ]
     },
     "execution_count": 144,
     "metadata": {},
     "output_type": "execute_result"
    }
   ],
   "source": [
    "get_WoE(diagnostic, 'a1_g2', target_2)\n",
    "calculateIV(diagnostic, ['a1_g2'], target_2)"
   ]
  },
  {
   "cell_type": "code",
   "execution_count": 145,
   "metadata": {},
   "outputs": [
    {
     "name": "stdout",
     "output_type": "stream",
     "text": [
      "Obteniendo el Woe para la variable a1_g2 :\n",
      "  El WoE para n0 [ 60 ] es -0.6931471805599453\n",
      "  El WoE para n1 [ 60 ] es 0.7691330875378674\n"
     ]
    },
    {
     "data": {
      "text/html": [
       "<div>\n",
       "<style scoped>\n",
       "    .dataframe tbody tr th:only-of-type {\n",
       "        vertical-align: middle;\n",
       "    }\n",
       "\n",
       "    .dataframe tbody tr th {\n",
       "        vertical-align: top;\n",
       "    }\n",
       "\n",
       "    .dataframe thead th {\n",
       "        text-align: right;\n",
       "    }\n",
       "</style>\n",
       "<table border=\"1\" class=\"dataframe\">\n",
       "  <thead>\n",
       "    <tr style=\"text-align: right;\">\n",
       "      <th></th>\n",
       "      <th>a1_g2</th>\n",
       "    </tr>\n",
       "  </thead>\n",
       "  <tbody>\n",
       "    <tr>\n",
       "      <th>IV</th>\n",
       "      <td>0.513065</td>\n",
       "    </tr>\n",
       "  </tbody>\n",
       "</table>\n",
       "</div>"
      ],
      "text/plain": [
       "       a1_g2\n",
       "IV  0.513065"
      ]
     },
     "execution_count": 145,
     "metadata": {},
     "output_type": "execute_result"
    }
   ],
   "source": [
    "get_WoE(diagnostic, 'a1_g2', target_1)\n",
    "calculateIV(diagnostic, ['a1_g2'], target_1)"
   ]
  },
  {
   "cell_type": "markdown",
   "metadata": {},
   "source": [
    "Parece que la variable ficticia que hemos generado a1_g2 puede predecir para ambas variables objetivo. Aunque parece mejor predictor para target_2"
   ]
  },
  {
   "cell_type": "markdown",
   "metadata": {},
   "source": [
    "Discretización con método dirigido"
   ]
  },
  {
   "cell_type": "code",
   "execution_count": 68,
   "metadata": {},
   "outputs": [
    {
     "name": "stdout",
     "output_type": "stream",
     "text": [
      "Obteniendo el Woe para la variable a1_g2_b :\n",
      "  El WoE para n0 [ 67 ] es 2.1484344131667874\n",
      "  El WoE para n1 [ 53 ] es -1.4586150226995167\n"
     ]
    },
    {
     "data": {
      "text/html": [
       "<div>\n",
       "<style scoped>\n",
       "    .dataframe tbody tr th:only-of-type {\n",
       "        vertical-align: middle;\n",
       "    }\n",
       "\n",
       "    .dataframe tbody tr th {\n",
       "        vertical-align: top;\n",
       "    }\n",
       "\n",
       "    .dataframe thead th {\n",
       "        text-align: right;\n",
       "    }\n",
       "</style>\n",
       "<table border=\"1\" class=\"dataframe\">\n",
       "  <thead>\n",
       "    <tr style=\"text-align: right;\">\n",
       "      <th></th>\n",
       "      <th>a1_g2_b</th>\n",
       "    </tr>\n",
       "  </thead>\n",
       "  <tbody>\n",
       "    <tr>\n",
       "      <th>IV</th>\n",
       "      <td>2.607702</td>\n",
       "    </tr>\n",
       "  </tbody>\n",
       "</table>\n",
       "</div>"
      ],
      "text/plain": [
       "     a1_g2_b\n",
       "IV  2.607702"
      ]
     },
     "execution_count": 68,
     "metadata": {},
     "output_type": "execute_result"
    }
   ],
   "source": [
    "#Podemos discrtizar de manera más dirigida para comprobar si mejoran los resultados\n",
    "diagnostic.loc[:, 'a1_g2_b'] = diagnostic['a1'].map(lambda x: 'n0' if x < 39 else 'n1')\n",
    "get_WoE(diagnostic, 'a1_g2_b', target_2)\n",
    "calculateIV(diagnostic, ['a1_g2_b'], target_2)"
   ]
  },
  {
   "cell_type": "code",
   "execution_count": 69,
   "metadata": {},
   "outputs": [
    {
     "name": "stdout",
     "output_type": "stream",
     "text": [
      "Obteniendo el Woe para la variable a1_g2_b :\n",
      "  El WoE para n0 [ 67 ] es -0.3930425881096072\n",
      "  El WoE para n1 [ 53 ] es 0.581921545449721\n"
     ]
    },
    {
     "data": {
      "text/html": [
       "<div>\n",
       "<style scoped>\n",
       "    .dataframe tbody tr th:only-of-type {\n",
       "        vertical-align: middle;\n",
       "    }\n",
       "\n",
       "    .dataframe tbody tr th {\n",
       "        vertical-align: top;\n",
       "    }\n",
       "\n",
       "    .dataframe thead th {\n",
       "        text-align: right;\n",
       "    }\n",
       "</style>\n",
       "<table border=\"1\" class=\"dataframe\">\n",
       "  <thead>\n",
       "    <tr style=\"text-align: right;\">\n",
       "      <th></th>\n",
       "      <th>a1_g2_b</th>\n",
       "    </tr>\n",
       "  </thead>\n",
       "  <tbody>\n",
       "    <tr>\n",
       "      <th>IV</th>\n",
       "      <td>0.240957</td>\n",
       "    </tr>\n",
       "  </tbody>\n",
       "</table>\n",
       "</div>"
      ],
      "text/plain": [
       "     a1_g2_b\n",
       "IV  0.240957"
      ]
     },
     "execution_count": 69,
     "metadata": {},
     "output_type": "execute_result"
    }
   ],
   "source": [
    "get_WoE(diagnostic, 'a1_g2_b', target_1)\n",
    "calculateIV(diagnostic, ['a1_g2_b'], target_1)"
   ]
  },
  {
   "cell_type": "markdown",
   "metadata": {},
   "source": [
    "Esta última forma de discretizar, es mejor predictor para la target_1 y malo para la target_2. En este caso quizás sería mejor utilizar la primera forma de contenedores que hemos generado con la función pd.qcut para la target_2.  \n",
    "\n",
    "Como conclusión, elegimos:\n",
    "- a1_g1_b para el target 1\n",
    "- a1_g2 para el target 2\n"
   ]
  },
  {
   "cell_type": "code",
   "execution_count": 150,
   "metadata": {},
   "outputs": [
    {
     "data": {
      "text/plain": [
       "0      n0\n",
       "1      n0\n",
       "2      n0\n",
       "3      n0\n",
       "4      n0\n",
       "       ..\n",
       "115    n3\n",
       "116    n3\n",
       "117    n3\n",
       "118    n3\n",
       "119    n3\n",
       "Name: a1_g1_b, Length: 120, dtype: object"
      ]
     },
     "execution_count": 150,
     "metadata": {},
     "output_type": "execute_result"
    }
   ],
   "source": [
    "diagnostic['a1_g1_b']"
   ]
  },
  {
   "cell_type": "code",
   "execution_count": 151,
   "metadata": {},
   "outputs": [
    {
     "data": {
      "text/plain": [
       "0      n0\n",
       "1      n0\n",
       "2      n0\n",
       "3      n0\n",
       "4      n0\n",
       "       ..\n",
       "115    n3\n",
       "116    n3\n",
       "117    n3\n",
       "118    n3\n",
       "119    n3\n",
       "Name: a1_g1, Length: 120, dtype: category\n",
       "Categories (4, object): [n0 < n1 < n2 < n3]"
      ]
     },
     "execution_count": 151,
     "metadata": {},
     "output_type": "execute_result"
    }
   ],
   "source": [
    "diagnostic['a1_g1']"
   ]
  },
  {
   "cell_type": "markdown",
   "metadata": {},
   "source": [
    "### Creación del modelo predictivo"
   ]
  },
  {
   "cell_type": "markdown",
   "metadata": {},
   "source": [
    "En primer lugar se crean dos conjuntos de datos para cada una de las variables objetivo o independiente, añadiendo las variables ficticias seleccionadas anteriormente y convertidas a variables dummies para poder generar dos modelos mejor ajustados."
   ]
  },
  {
   "cell_type": "code",
   "execution_count": 154,
   "metadata": {},
   "outputs": [],
   "source": [
    "data_model_1 = pd.concat([diagnostic[categorical_1], pd.get_dummies(diagnostic['a1_g1_b'], prefix = 'pclass')], axis = 1)\n",
    "data_model_2 = pd.concat([diagnostic[categorical_2], pd.get_dummies(diagnostic['a1_g2'], prefix = 'pclass')], axis = 1)"
   ]
  },
  {
   "cell_type": "markdown",
   "metadata": {},
   "source": [
    "#### Detección de multicolinealidad en las variables"
   ]
  },
  {
   "cell_type": "markdown",
   "metadata": {},
   "source": [
    "Las variables colineales se pueden eliminar mediante la utilización del Factor de inflación de la varianza (VIF).  \n",
    "Referencia: https://www.analyticslane.com/2020/04/22/solucionar-la-multicolinealidad-con-vif/"
   ]
  },
  {
   "cell_type": "code",
   "execution_count": 147,
   "metadata": {},
   "outputs": [],
   "source": [
    "from sklearn.linear_model import LinearRegression\n",
    "import warnings\n",
    "\n",
    "warnings.filterwarnings(\"ignore\", category=RuntimeWarning) \n",
    "\n",
    "def calculateVIF(data):\n",
    "    features = list(data.columns)\n",
    "    num_features = len(features)\n",
    "    \n",
    "    model = LinearRegression()\n",
    "    \n",
    "    result = pd.DataFrame(index = ['VIF'], columns = features)\n",
    "    result = result.fillna(0)\n",
    "    \n",
    "    for ite in range(num_features):\n",
    "        x_features = features[:]\n",
    "        y_featue = features[ite]\n",
    "        x_features.remove(y_featue)\n",
    "        \n",
    "        x = data[x_features]\n",
    "        y = data[y_featue]\n",
    "        \n",
    "        model.fit(data[x_features], data[y_featue])\n",
    "        \n",
    "        result[y_featue] = 1/(1 - model.score(data[x_features], data[y_featue]))\n",
    "    \n",
    "    return result\n",
    "\n",
    "def selectDataUsingVIF(data, max_VIF = 5):\n",
    "    result = data.copy(deep = True)\n",
    "    \n",
    "    VIF = calculateVIF(result)\n",
    "    \n",
    "    while VIF.to_numpy().max() > max_VIF: #Cambio de as_matrix() por values.\n",
    "        col_max = np.where(VIF == VIF.to_numpy().max())[1][0] #Cambio de as_matrix() por values.\n",
    "        features = list(result.columns)\n",
    "        features.remove(features[col_max])\n",
    "        result = result[features]\n",
    "        \n",
    "        VIF = calculateVIF(result)\n",
    "        \n",
    "    return result"
   ]
  },
  {
   "cell_type": "markdown",
   "metadata": {},
   "source": [
    "#### Modelo 1 para la primera variable objetivo (target_1)"
   ]
  },
  {
   "cell_type": "code",
   "execution_count": 157,
   "metadata": {},
   "outputs": [
    {
     "data": {
      "text/html": [
       "<div>\n",
       "<style scoped>\n",
       "    .dataframe tbody tr th:only-of-type {\n",
       "        vertical-align: middle;\n",
       "    }\n",
       "\n",
       "    .dataframe tbody tr th {\n",
       "        vertical-align: top;\n",
       "    }\n",
       "\n",
       "    .dataframe thead th {\n",
       "        text-align: right;\n",
       "    }\n",
       "</style>\n",
       "<table border=\"1\" class=\"dataframe\">\n",
       "  <thead>\n",
       "    <tr style=\"text-align: right;\">\n",
       "      <th></th>\n",
       "      <th>a2</th>\n",
       "      <th>a3</th>\n",
       "      <th>a4</th>\n",
       "      <th>a5</th>\n",
       "      <th>pclass_n0</th>\n",
       "      <th>pclass_n1</th>\n",
       "      <th>pclass_n2</th>\n",
       "      <th>pclass_n3</th>\n",
       "    </tr>\n",
       "  </thead>\n",
       "  <tbody>\n",
       "    <tr>\n",
       "      <th>VIF</th>\n",
       "      <td>6.146789</td>\n",
       "      <td>1.338202</td>\n",
       "      <td>0.914</td>\n",
       "      <td>3.787419</td>\n",
       "      <td>inf</td>\n",
       "      <td>inf</td>\n",
       "      <td>inf</td>\n",
       "      <td>inf</td>\n",
       "    </tr>\n",
       "  </tbody>\n",
       "</table>\n",
       "</div>"
      ],
      "text/plain": [
       "           a2        a3     a4        a5  pclass_n0  pclass_n1  pclass_n2  \\\n",
       "VIF  6.146789  1.338202  0.914  3.787419        inf        inf        inf   \n",
       "\n",
       "     pclass_n3  \n",
       "VIF        inf  "
      ]
     },
     "execution_count": 157,
     "metadata": {},
     "output_type": "execute_result"
    }
   ],
   "source": [
    "calculateVIF(data_model_1)"
   ]
  },
  {
   "cell_type": "code",
   "execution_count": 160,
   "metadata": {},
   "outputs": [
    {
     "data": {
      "text/html": [
       "<div>\n",
       "<style scoped>\n",
       "    .dataframe tbody tr th:only-of-type {\n",
       "        vertical-align: middle;\n",
       "    }\n",
       "\n",
       "    .dataframe tbody tr th {\n",
       "        vertical-align: top;\n",
       "    }\n",
       "\n",
       "    .dataframe thead th {\n",
       "        text-align: right;\n",
       "    }\n",
       "</style>\n",
       "<table border=\"1\" class=\"dataframe\">\n",
       "  <thead>\n",
       "    <tr style=\"text-align: right;\">\n",
       "      <th></th>\n",
       "      <th>a3</th>\n",
       "      <th>a4</th>\n",
       "      <th>a5</th>\n",
       "      <th>pclass_n1</th>\n",
       "      <th>pclass_n2</th>\n",
       "      <th>pclass_n3</th>\n",
       "    </tr>\n",
       "  </thead>\n",
       "  <tbody>\n",
       "    <tr>\n",
       "      <th>VIF</th>\n",
       "      <td>1.558263</td>\n",
       "      <td>1.446684</td>\n",
       "      <td>1.387177</td>\n",
       "      <td>2.136578</td>\n",
       "      <td>1.871053</td>\n",
       "      <td>2.222875</td>\n",
       "    </tr>\n",
       "  </tbody>\n",
       "</table>\n",
       "</div>"
      ],
      "text/plain": [
       "           a3        a4        a5  pclass_n1  pclass_n2  pclass_n3\n",
       "VIF  1.558263  1.446684  1.387177   2.136578   1.871053   2.222875"
      ]
     },
     "execution_count": 160,
     "metadata": {},
     "output_type": "execute_result"
    }
   ],
   "source": [
    "model_1 = selectDataUsingVIF(data_model_1)\n",
    "calculateVIF(model_1)"
   ]
  },
  {
   "cell_type": "markdown",
   "metadata": {},
   "source": [
    "#### Modelo 2 para la segunda variable objetivo (target_2)"
   ]
  },
  {
   "cell_type": "code",
   "execution_count": 161,
   "metadata": {},
   "outputs": [
    {
     "data": {
      "text/html": [
       "<div>\n",
       "<style scoped>\n",
       "    .dataframe tbody tr th:only-of-type {\n",
       "        vertical-align: middle;\n",
       "    }\n",
       "\n",
       "    .dataframe tbody tr th {\n",
       "        vertical-align: top;\n",
       "    }\n",
       "\n",
       "    .dataframe thead th {\n",
       "        text-align: right;\n",
       "    }\n",
       "</style>\n",
       "<table border=\"1\" class=\"dataframe\">\n",
       "  <thead>\n",
       "    <tr style=\"text-align: right;\">\n",
       "      <th></th>\n",
       "      <th>a2</th>\n",
       "      <th>a3</th>\n",
       "      <th>a4</th>\n",
       "      <th>a5</th>\n",
       "      <th>a6</th>\n",
       "      <th>pclass_n0</th>\n",
       "      <th>pclass_n1</th>\n",
       "    </tr>\n",
       "  </thead>\n",
       "  <tbody>\n",
       "    <tr>\n",
       "      <th>VIF</th>\n",
       "      <td>7.799021</td>\n",
       "      <td>2.809522</td>\n",
       "      <td>1.898356</td>\n",
       "      <td>4.857637</td>\n",
       "      <td>2.557008</td>\n",
       "      <td>inf</td>\n",
       "      <td>inf</td>\n",
       "    </tr>\n",
       "  </tbody>\n",
       "</table>\n",
       "</div>"
      ],
      "text/plain": [
       "           a2        a3        a4        a5        a6  pclass_n0  pclass_n1\n",
       "VIF  7.799021  2.809522  1.898356  4.857637  2.557008        inf        inf"
      ]
     },
     "execution_count": 161,
     "metadata": {},
     "output_type": "execute_result"
    }
   ],
   "source": [
    "calculateVIF(data_model_2)"
   ]
  },
  {
   "cell_type": "code",
   "execution_count": 162,
   "metadata": {},
   "outputs": [
    {
     "data": {
      "text/html": [
       "<div>\n",
       "<style scoped>\n",
       "    .dataframe tbody tr th:only-of-type {\n",
       "        vertical-align: middle;\n",
       "    }\n",
       "\n",
       "    .dataframe tbody tr th {\n",
       "        vertical-align: top;\n",
       "    }\n",
       "\n",
       "    .dataframe thead th {\n",
       "        text-align: right;\n",
       "    }\n",
       "</style>\n",
       "<table border=\"1\" class=\"dataframe\">\n",
       "  <thead>\n",
       "    <tr style=\"text-align: right;\">\n",
       "      <th></th>\n",
       "      <th>a3</th>\n",
       "      <th>a4</th>\n",
       "      <th>a5</th>\n",
       "      <th>a6</th>\n",
       "      <th>pclass_n1</th>\n",
       "    </tr>\n",
       "  </thead>\n",
       "  <tbody>\n",
       "    <tr>\n",
       "      <th>VIF</th>\n",
       "      <td>1.502873</td>\n",
       "      <td>1.878122</td>\n",
       "      <td>1.15266</td>\n",
       "      <td>1.661995</td>\n",
       "      <td>1.397528</td>\n",
       "    </tr>\n",
       "  </tbody>\n",
       "</table>\n",
       "</div>"
      ],
      "text/plain": [
       "           a3        a4       a5        a6  pclass_n1\n",
       "VIF  1.502873  1.878122  1.15266  1.661995   1.397528"
      ]
     },
     "execution_count": 162,
     "metadata": {},
     "output_type": "execute_result"
    }
   ],
   "source": [
    "model_2 = selectDataUsingVIF(data_model_2)\n",
    "calculateVIF(model_2)"
   ]
  },
  {
   "cell_type": "markdown",
   "metadata": {},
   "source": [
    "#### Separación de las variables en conjunto de muestra y validación\n",
    "Para validar los resultados se ha de crear un conjunto de entrenamiento y otro de validación. Este proceso se ha de realizar para cada una de las variables objetivo, para lo cual se puede utilizar la función `train_test_split`."
   ]
  },
  {
   "cell_type": "code",
   "execution_count": 163,
   "metadata": {},
   "outputs": [],
   "source": [
    "from sklearn.model_selection import train_test_split\n",
    "\n",
    "x1_train, x1_test, y1_train, y1_test = train_test_split(model_1, diagnostic[target_1], random_state = 100)\n",
    "x2_train, x2_test, y2_train, y2_test = train_test_split(model_2, diagnostic[target_2], random_state = 100)"
   ]
  },
  {
   "cell_type": "markdown",
   "metadata": {},
   "source": [
    "#### Creación y validación de los modelos \n",
    "\n",
    "Se trata de un problema de Clasificación binaria por lo que utilizamos un modelos de Regresión logistica.  \n",
    "Creamos primero las funciones con las métricas necesarias para evaluar los modelos."
   ]
  },
  {
   "cell_type": "code",
   "execution_count": 164,
   "metadata": {},
   "outputs": [],
   "source": [
    "from sklearn.metrics import accuracy_score, auc, confusion_matrix, f1_score, precision_score, recall_score, roc_curve\n",
    "\n",
    "def metricas_modelos(y_true, y_pred):\n",
    "    from sklearn.metrics import accuracy_score, auc, confusion_matrix, f1_score, precision_score, recall_score, roc_curve\n",
    "\n",
    "    # Obtención de matriz de confusión\n",
    "    confusion_matrix = confusion_matrix(y_true, y_pred)\n",
    "\n",
    "    print(\"La matriz de confusión es \")\n",
    "    print(confusion_matrix)\n",
    "\n",
    "    print('Precisión:', accuracy_score(y_true, y_pred))\n",
    "    print('Exactitud:', precision_score(y_true, y_pred))\n",
    "    print('Exhaustividad:', recall_score(y_true, y_pred))\n",
    "    print('F1:', f1_score(y_true, y_pred))\n",
    "\n",
    "    false_positive_rate, recall, thresholds = roc_curve(y_true, y_pred)\n",
    "    roc_auc = auc(false_positive_rate, recall)\n",
    "\n",
    "    print('AUC:', auc(false_positive_rate, recall))\n",
    "\n",
    "    plot(false_positive_rate, recall, 'b')\n",
    "    plot([0, 1], [0, 1], 'r--')\n",
    "    title('AUC = %0.2f' % roc_auc)"
   ]
  },
  {
   "cell_type": "markdown",
   "metadata": {},
   "source": [
    "#### Modelo para la primera variable objetivo target_1"
   ]
  },
  {
   "cell_type": "code",
   "execution_count": 165,
   "metadata": {},
   "outputs": [
    {
     "name": "stdout",
     "output_type": "stream",
     "text": [
      "La matriz de confusión es \n",
      "[[45  0]\n",
      " [ 0 45]]\n",
      "Precisión: 1.0\n",
      "Exactitud: 1.0\n",
      "Exhaustividad: 1.0\n",
      "F1: 1.0\n",
      "AUC: 1.0\n"
     ]
    },
    {
     "data": {
      "image/png": "[encoded data removed]",
      "text/plain": [
       "<Figure size 432x288 with 1 Axes>"
      ]
     },
     "metadata": {
      "needs_background": "light"
     },
     "output_type": "display_data"
    }
   ],
   "source": [
    "from sklearn.linear_model.logistic import LogisticRegression\n",
    "\n",
    "model = LogisticRegression().fit(x1_train, y1_train)\n",
    "y1_pred_train = model.predict(x1_train)\n",
    "y1_pred_test = model.predict(x1_test)\n",
    "\n",
    "metricas_modelos(y1_train, y1_pred_train);"
   ]
  },
  {
   "cell_type": "markdown",
   "metadata": {},
   "source": [
    "Comprobamos si existe sobreajuste con el conjunto de validación"
   ]
  },
  {
   "cell_type": "code",
   "execution_count": 166,
   "metadata": {},
   "outputs": [
    {
     "name": "stdout",
     "output_type": "stream",
     "text": [
      "La matriz de confusión es \n",
      "[[16  0]\n",
      " [ 0 14]]\n",
      "Precisión: 1.0\n",
      "Exactitud: 1.0\n",
      "Exhaustividad: 1.0\n",
      "F1: 1.0\n",
      "AUC: 1.0\n"
     ]
    },
    {
     "data": {
      "image/png": "[encoded data removed]",
      "text/plain": [
       "<Figure size 432x288 with 1 Axes>"
      ]
     },
     "metadata": {
      "needs_background": "light"
     },
     "output_type": "display_data"
    }
   ],
   "source": [
    "metricas_modelos(y1_test, y1_pred_test)"
   ]
  },
  {
   "cell_type": "markdown",
   "metadata": {},
   "source": [
    "No parece que exista sobreajuste, pero es demasiado perfecto para no tener dudas, asique intentaremos más adelante una validación cruzada para asegurarnos del buen rendimiento del modelo.  \n",
    "Por ahora hacemos el modelo para la segunda variable objetivo."
   ]
  },
  {
   "cell_type": "markdown",
   "metadata": {},
   "source": [
    "#### Modelo para la segunda variable objetivo target_2"
   ]
  },
  {
   "cell_type": "code",
   "execution_count": 167,
   "metadata": {},
   "outputs": [
    {
     "name": "stdout",
     "output_type": "stream",
     "text": [
      "La matriz de confusión es \n",
      "[[50  0]\n",
      " [ 0 40]]\n",
      "Precisión: 1.0\n",
      "Exactitud: 1.0\n",
      "Exhaustividad: 1.0\n",
      "F1: 1.0\n",
      "AUC: 1.0\n"
     ]
    },
    {
     "data": {
      "image/png": "[encoded data removed]",
      "text/plain": [
       "<Figure size 432x288 with 1 Axes>"
      ]
     },
     "metadata": {
      "needs_background": "light"
     },
     "output_type": "display_data"
    }
   ],
   "source": [
    "model = LogisticRegression().fit(x2_train, y2_train)\n",
    "y2_pred_train = model.predict(x2_train)\n",
    "y2_pred_test = model.predict(x2_test)\n",
    "\n",
    "metricas_modelos(y2_train, y2_pred_train);"
   ]
  },
  {
   "cell_type": "code",
   "execution_count": 168,
   "metadata": {},
   "outputs": [
    {
     "name": "stdout",
     "output_type": "stream",
     "text": [
      "La matriz de confusión es \n",
      "[[20  0]\n",
      " [ 0 10]]\n",
      "Precisión: 1.0\n",
      "Exactitud: 1.0\n",
      "Exhaustividad: 1.0\n",
      "F1: 1.0\n",
      "AUC: 1.0\n"
     ]
    },
    {
     "data": {
      "image/png": "[encoded data removed]",
      "text/plain": [
       "<Figure size 432x288 with 1 Axes>"
      ]
     },
     "metadata": {
      "needs_background": "light"
     },
     "output_type": "display_data"
    }
   ],
   "source": [
    "metricas_modelos(y2_test, y2_pred_test)"
   ]
  },
  {
   "cell_type": "markdown",
   "metadata": {},
   "source": [
    "Con esta segunda variable objetivo ocurre lo mismo que con la primera. No parece que exista sobreajuste, pero es demasiado perfecto para no tener dudas, asique intentaremos con los dos modelos una validación cruzada para asegurarnos del buen rendimiento de los modelos.   "
   ]
  },
  {
   "cell_type": "markdown",
   "metadata": {},
   "source": [
    "#### Modelos con Validación Cruzada"
   ]
  },
  {
   "cell_type": "markdown",
   "metadata": {},
   "source": [
    "En este caso un error típico es utilizar los conjuntos de datos de entrenamiento separados previamente (x1_train, x1_test, y1_train, y1_test, etc). Dado que la validación cruzada ya realiza la separación de los datos en la cantidad de conjuntos indicada y valida con datos que no ha visto el modelo, se han de usar todos los datos (model_1 y model_2)."
   ]
  },
  {
   "cell_type": "code",
   "execution_count": 169,
   "metadata": {},
   "outputs": [
    {
     "name": "stdout",
     "output_type": "stream",
     "text": [
      "La matriz de confusión es \n",
      "[[61  0]\n",
      " [ 0 59]]\n",
      "Precisión: 1.0\n",
      "Exactitud: 1.0\n",
      "Exhaustividad: 1.0\n",
      "F1: 1.0\n",
      "AUC: 1.0\n"
     ]
    },
    {
     "data": {
      "image/png": "[encoded data removed]",
      "text/plain": [
       "<Figure size 432x288 with 1 Axes>"
      ]
     },
     "metadata": {
      "needs_background": "light"
     },
     "output_type": "display_data"
    }
   ],
   "source": [
    "from sklearn.model_selection import cross_val_predict\n",
    "\n",
    "cv_1 = cross_val_predict(LogisticRegression(),\n",
    "                         model_1,\n",
    "                         diagnostic[target_1],\n",
    "                         cv = 10)\n",
    "\n",
    "metricas_modelos(diagnostic[target_1], cv_1);"
   ]
  },
  {
   "cell_type": "code",
   "execution_count": 172,
   "metadata": {},
   "outputs": [
    {
     "name": "stdout",
     "output_type": "stream",
     "text": [
      "La matriz de confusión es \n",
      "[[70  0]\n",
      " [ 0 50]]\n",
      "Precisión: 1.0\n",
      "Exactitud: 1.0\n",
      "Exhaustividad: 1.0\n",
      "F1: 1.0\n",
      "AUC: 1.0\n"
     ]
    },
    {
     "data": {
      "image/png": "[encoded data removed]",
      "text/plain": [
       "<Figure size 432x288 with 1 Axes>"
      ]
     },
     "metadata": {
      "needs_background": "light"
     },
     "output_type": "display_data"
    }
   ],
   "source": [
    "cv_2 = cross_val_predict(LogisticRegression(),\n",
    "                         model_2,\n",
    "                         diagnostic[target_2],\n",
    "                         cv = 10)\n",
    "\n",
    "metricas_modelos(diagnostic[target_2], cv_2)"
   ]
  },
  {
   "cell_type": "markdown",
   "metadata": {},
   "source": [
    "Al realizar modelos mediante validación cruzada se puede observar que los resultados son óptimos para ambas variables objetivo."
   ]
  },
  {
   "cell_type": "markdown",
   "metadata": {},
   "source": [
    "### Metodología alternativa para  el Análisis de relevancia de atributos en Python - IV y WoE  \n",
    "Referencia:https://towardsdatascience.com/attribute-relevance-analysis-in-python-iv-and-woe-b5651443fc04"
   ]
  },
  {
   "cell_type": "code",
   "execution_count": 127,
   "metadata": {},
   "outputs": [],
   "source": [
    "#Alternativa cálculo conjunto WoE y IV\n",
    "def calculate_woe_iv(dataset, feature, target):\n",
    "    lst = []\n",
    "    for i in range(dataset[feature].nunique()):\n",
    "        val = list(dataset[feature].unique())[i]\n",
    "        lst.append({\n",
    "            'Value': val,\n",
    "            'All': dataset[dataset[feature] == val].count()[feature],\n",
    "            'Good': dataset[(dataset[feature] == val) & (dataset[target] == 0)].count()[feature],\n",
    "            'Bad': dataset[(dataset[feature] == val) & (dataset[target] == 1)].count()[feature]\n",
    "        })\n",
    "        \n",
    "    dset = pd.DataFrame(lst)\n",
    "    dset['Distr_Good'] = dset['Good'] / dset['Good'].sum()\n",
    "    dset['Distr_Bad'] = dset['Bad'] / dset['Bad'].sum()\n",
    "    dset['WoE'] = np.log(dset['Distr_Good'] / dset['Distr_Bad'])\n",
    "    dset = dset.replace({'WoE': {np.inf: 0, -np.inf: 0}})\n",
    "    dset['IV'] = (dset['Distr_Good'] - dset['Distr_Bad']) * dset['WoE']\n",
    "    iv = dset['IV'].sum()\n",
    "    \n",
    "    dset = dset.sort_values(by='WoE')\n",
    "    \n",
    "    return dset, iv"
   ]
  },
  {
   "cell_type": "code",
   "execution_count": 132,
   "metadata": {},
   "outputs": [
    {
     "data": {
      "text/html": [
       "<div>\n",
       "<style scoped>\n",
       "    .dataframe tbody tr th:only-of-type {\n",
       "        vertical-align: middle;\n",
       "    }\n",
       "\n",
       "    .dataframe tbody tr th {\n",
       "        vertical-align: top;\n",
       "    }\n",
       "\n",
       "    .dataframe thead th {\n",
       "        text-align: right;\n",
       "    }\n",
       "</style>\n",
       "<table border=\"1\" class=\"dataframe\">\n",
       "  <thead>\n",
       "    <tr style=\"text-align: right;\">\n",
       "      <th></th>\n",
       "      <th>a1</th>\n",
       "      <th>a2</th>\n",
       "      <th>a3</th>\n",
       "      <th>a4</th>\n",
       "      <th>a5</th>\n",
       "      <th>a6</th>\n",
       "      <th>d2</th>\n",
       "      <th>d1</th>\n",
       "      <th>a1_g1</th>\n",
       "      <th>a1_g1_b</th>\n",
       "      <th>a1_g2</th>\n",
       "      <th>a1_g2_b</th>\n",
       "    </tr>\n",
       "  </thead>\n",
       "  <tbody>\n",
       "    <tr>\n",
       "      <th>0</th>\n",
       "      <td>35.5</td>\n",
       "      <td>0</td>\n",
       "      <td>1</td>\n",
       "      <td>0</td>\n",
       "      <td>0</td>\n",
       "      <td>0</td>\n",
       "      <td>0</td>\n",
       "      <td>0</td>\n",
       "      <td>n0</td>\n",
       "      <td>n0</td>\n",
       "      <td>n0</td>\n",
       "      <td>n0</td>\n",
       "    </tr>\n",
       "    <tr>\n",
       "      <th>1</th>\n",
       "      <td>35.9</td>\n",
       "      <td>0</td>\n",
       "      <td>0</td>\n",
       "      <td>1</td>\n",
       "      <td>1</td>\n",
       "      <td>1</td>\n",
       "      <td>0</td>\n",
       "      <td>1</td>\n",
       "      <td>n0</td>\n",
       "      <td>n0</td>\n",
       "      <td>n0</td>\n",
       "      <td>n0</td>\n",
       "    </tr>\n",
       "    <tr>\n",
       "      <th>2</th>\n",
       "      <td>35.9</td>\n",
       "      <td>0</td>\n",
       "      <td>1</td>\n",
       "      <td>0</td>\n",
       "      <td>0</td>\n",
       "      <td>0</td>\n",
       "      <td>0</td>\n",
       "      <td>0</td>\n",
       "      <td>n0</td>\n",
       "      <td>n0</td>\n",
       "      <td>n0</td>\n",
       "      <td>n0</td>\n",
       "    </tr>\n",
       "    <tr>\n",
       "      <th>3</th>\n",
       "      <td>36.0</td>\n",
       "      <td>0</td>\n",
       "      <td>0</td>\n",
       "      <td>1</td>\n",
       "      <td>1</td>\n",
       "      <td>1</td>\n",
       "      <td>0</td>\n",
       "      <td>1</td>\n",
       "      <td>n0</td>\n",
       "      <td>n0</td>\n",
       "      <td>n0</td>\n",
       "      <td>n0</td>\n",
       "    </tr>\n",
       "    <tr>\n",
       "      <th>4</th>\n",
       "      <td>36.0</td>\n",
       "      <td>0</td>\n",
       "      <td>1</td>\n",
       "      <td>0</td>\n",
       "      <td>0</td>\n",
       "      <td>0</td>\n",
       "      <td>0</td>\n",
       "      <td>0</td>\n",
       "      <td>n0</td>\n",
       "      <td>n0</td>\n",
       "      <td>n0</td>\n",
       "      <td>n0</td>\n",
       "    </tr>\n",
       "    <tr>\n",
       "      <th>...</th>\n",
       "      <td>...</td>\n",
       "      <td>...</td>\n",
       "      <td>...</td>\n",
       "      <td>...</td>\n",
       "      <td>...</td>\n",
       "      <td>...</td>\n",
       "      <td>...</td>\n",
       "      <td>...</td>\n",
       "      <td>...</td>\n",
       "      <td>...</td>\n",
       "      <td>...</td>\n",
       "      <td>...</td>\n",
       "    </tr>\n",
       "    <tr>\n",
       "      <th>115</th>\n",
       "      <td>41.4</td>\n",
       "      <td>0</td>\n",
       "      <td>1</td>\n",
       "      <td>1</td>\n",
       "      <td>0</td>\n",
       "      <td>1</td>\n",
       "      <td>1</td>\n",
       "      <td>0</td>\n",
       "      <td>n3</td>\n",
       "      <td>n3</td>\n",
       "      <td>n2</td>\n",
       "      <td>n1</td>\n",
       "    </tr>\n",
       "    <tr>\n",
       "      <th>116</th>\n",
       "      <td>41.5</td>\n",
       "      <td>0</td>\n",
       "      <td>0</td>\n",
       "      <td>0</td>\n",
       "      <td>0</td>\n",
       "      <td>0</td>\n",
       "      <td>0</td>\n",
       "      <td>0</td>\n",
       "      <td>n3</td>\n",
       "      <td>n3</td>\n",
       "      <td>n2</td>\n",
       "      <td>n1</td>\n",
       "    </tr>\n",
       "    <tr>\n",
       "      <th>117</th>\n",
       "      <td>41.5</td>\n",
       "      <td>1</td>\n",
       "      <td>1</td>\n",
       "      <td>0</td>\n",
       "      <td>1</td>\n",
       "      <td>0</td>\n",
       "      <td>1</td>\n",
       "      <td>0</td>\n",
       "      <td>n3</td>\n",
       "      <td>n3</td>\n",
       "      <td>n2</td>\n",
       "      <td>n1</td>\n",
       "    </tr>\n",
       "    <tr>\n",
       "      <th>118</th>\n",
       "      <td>41.5</td>\n",
       "      <td>0</td>\n",
       "      <td>1</td>\n",
       "      <td>1</td>\n",
       "      <td>0</td>\n",
       "      <td>1</td>\n",
       "      <td>1</td>\n",
       "      <td>0</td>\n",
       "      <td>n3</td>\n",
       "      <td>n3</td>\n",
       "      <td>n2</td>\n",
       "      <td>n1</td>\n",
       "    </tr>\n",
       "    <tr>\n",
       "      <th>119</th>\n",
       "      <td>41.5</td>\n",
       "      <td>0</td>\n",
       "      <td>1</td>\n",
       "      <td>1</td>\n",
       "      <td>0</td>\n",
       "      <td>1</td>\n",
       "      <td>1</td>\n",
       "      <td>0</td>\n",
       "      <td>n3</td>\n",
       "      <td>n3</td>\n",
       "      <td>n2</td>\n",
       "      <td>n1</td>\n",
       "    </tr>\n",
       "  </tbody>\n",
       "</table>\n",
       "<p>120 rows × 12 columns</p>\n",
       "</div>"
      ],
      "text/plain": [
       "       a1  a2  a3  a4  a5  a6  d2  d1 a1_g1 a1_g1_b a1_g2 a1_g2_b\n",
       "0    35.5   0   1   0   0   0   0   0    n0      n0    n0      n0\n",
       "1    35.9   0   0   1   1   1   0   1    n0      n0    n0      n0\n",
       "2    35.9   0   1   0   0   0   0   0    n0      n0    n0      n0\n",
       "3    36.0   0   0   1   1   1   0   1    n0      n0    n0      n0\n",
       "4    36.0   0   1   0   0   0   0   0    n0      n0    n0      n0\n",
       "..    ...  ..  ..  ..  ..  ..  ..  ..   ...     ...   ...     ...\n",
       "115  41.4   0   1   1   0   1   1   0    n3      n3    n2      n1\n",
       "116  41.5   0   0   0   0   0   0   0    n3      n3    n2      n1\n",
       "117  41.5   1   1   0   1   0   1   0    n3      n3    n2      n1\n",
       "118  41.5   0   1   1   0   1   1   0    n3      n3    n2      n1\n",
       "119  41.5   0   1   1   0   1   1   0    n3      n3    n2      n1\n",
       "\n",
       "[120 rows x 12 columns]"
      ]
     },
     "execution_count": 132,
     "metadata": {},
     "output_type": "execute_result"
    }
   ],
   "source": [
    "diagnostic"
   ]
  },
  {
   "cell_type": "code",
   "execution_count": 134,
   "metadata": {},
   "outputs": [
    {
     "name": "stdout",
     "output_type": "stream",
     "text": [
      "WoE and IV for column: a1\n",
      "    Value  All  Good  Bad  Distr_Good  Distr_Bad       WoE        IV\n",
      "9    37.0    8     1    7    0.016393   0.118644 -1.979247  0.202379\n",
      "18   37.9    5     1    4    0.016393   0.067797 -1.419631  0.072974\n",
      "16   37.7    4     1    3    0.016393   0.050847 -1.131949  0.039000\n",
      "11   37.2    3     1    2    0.016393   0.033898 -0.726484  0.012717\n",
      "14   37.5    6     2    4    0.032787   0.067797 -0.726484  0.025434\n",
      "12   37.3    3     1    2    0.016393   0.033898 -0.726484  0.012717\n",
      "10   37.1    3     1    2    0.016393   0.033898 -0.726484  0.012717\n",
      "17   37.8    3     1    2    0.016393   0.033898 -0.726484  0.012717\n",
      "37   40.9    3     1    2    0.016393   0.033898 -0.726484  0.012717\n",
      "32   40.4    5     2    3    0.032787   0.050847 -0.438802  0.007925\n",
      "5    36.6    4     2    2    0.032787   0.033898 -0.033336  0.000037\n",
      "3    36.2    2     1    1    0.016393   0.016949 -0.033336  0.000019\n",
      "13   37.4    2     1    1    0.016393   0.016949 -0.033336  0.000019\n",
      "1    35.9    2     1    1    0.016393   0.016949 -0.033336  0.000019\n",
      "8    36.9    2     1    1    0.016393   0.016949 -0.033336  0.000019\n",
      "29   40.1    1     0    1    0.000000   0.016949  0.000000 -0.000000\n",
      "27   39.7    1     1    0    0.016393   0.000000  0.000000  0.000000\n",
      "31   40.3    1     1    0    0.016393   0.000000  0.000000  0.000000\n",
      "0    35.5    1     1    0    0.016393   0.000000  0.000000  0.000000\n",
      "33   40.5    1     0    1    0.000000   0.016949  0.000000 -0.000000\n",
      "36   40.8    1     1    0    0.016393   0.000000  0.000000  0.000000\n",
      "41   41.3    1     0    1    0.000000   0.016949  0.000000 -0.000000\n",
      "26   39.4    1     1    0    0.016393   0.000000  0.000000  0.000000\n",
      "25   39.0    1     1    0    0.016393   0.000000  0.000000  0.000000\n",
      "21   38.3    1     1    0    0.016393   0.000000  0.000000  0.000000\n",
      "23   38.7    1     1    0    0.016393   0.000000  0.000000  0.000000\n",
      "4    36.3    1     0    1    0.000000   0.016949  0.000000 -0.000000\n",
      "24   38.9    1     1    0    0.016393   0.000000  0.000000  0.000000\n",
      "7    36.8    2     0    2    0.000000   0.033898  0.000000 -0.000000\n",
      "15   37.6    3     0    3    0.000000   0.050847  0.000000 -0.000000\n",
      "19   38.0    2     2    0    0.032787   0.000000  0.000000  0.000000\n",
      "43   41.5    4     4    0    0.065574   0.000000  0.000000  0.000000\n",
      "20   38.1    1     1    0    0.016393   0.000000  0.000000  0.000000\n",
      "42   41.4    1     1    0    0.016393   0.000000  0.000000  0.000000\n",
      "22   38.5    1     1    0    0.016393   0.000000  0.000000  0.000000\n",
      "35   40.7    5     3    2    0.049180   0.033898  0.372129  0.005687\n",
      "39   41.1    5     3    2    0.049180   0.033898  0.372129  0.005687\n",
      "28   40.0    8     5    3    0.081967   0.050847  0.477489  0.014859\n",
      "6    36.7    3     2    1    0.032787   0.016949  0.659811  0.010450\n",
      "2    36.0    3     2    1    0.032787   0.016949  0.659811  0.010450\n",
      "30   40.2    3     2    1    0.032787   0.016949  0.659811  0.010450\n",
      "34   40.6    3     2    1    0.032787   0.016949  0.659811  0.010450\n",
      "38   41.0    4     3    1    0.049180   0.016949  1.065276  0.034335\n",
      "40   41.2    4     3    1    0.049180   0.016949  1.065276  0.034335\n",
      "IV score: 0.55\n",
      "\n",
      "\n",
      "WoE and IV for column: a2\n",
      "   Value  All  Good  Bad  Distr_Good  Distr_Bad      WoE        IV\n",
      "1      1   29    10   19    0.163934   0.322034 -0.67519  0.106747\n",
      "0      0   91    51   40    0.836066   0.677966  0.20961  0.033139\n",
      "IV score: 0.14\n",
      "\n",
      "\n",
      "WoE and IV for column: a3\n",
      "   Value  All  Good  Bad  Distr_Good  Distr_Bad       WoE        IV\n",
      "1      0   50    10   40    0.163934   0.677966 -1.419631  0.729735\n",
      "0      1   70    51   19    0.836066   0.322034  0.954050  0.490412\n",
      "IV score: 1.22\n",
      "\n",
      "\n",
      "WoE and IV for column: a4\n",
      "   Value  All  Good  Bad  Distr_Good  Distr_Bad       WoE        IV\n",
      "1      1   80    21   59    0.344262        1.0 -1.066351  0.699247\n",
      "0      0   40    40    0    0.655738        0.0  0.000000  0.000000\n",
      "IV score: 0.70\n",
      "\n",
      "\n",
      "WoE and IV for column: a5\n",
      "   Value  All  Good  Bad  Distr_Good  Distr_Bad       WoE        IV\n",
      "1      1   59    10   49    0.163934   0.830508 -1.622572  1.081564\n",
      "0      0   61    51   10    0.836066   0.169492  1.595904  1.063788\n",
      "IV score: 2.15\n",
      "\n",
      "\n",
      "WoE and IV for column: a6\n",
      "   Value  All  Good  Bad  Distr_Good  Distr_Bad       WoE        IV\n",
      "1      1   50    21   29    0.344262   0.491525 -0.356110  0.052442\n",
      "0      0   70    40   30    0.655738   0.508475  0.254346  0.037456\n",
      "IV score: 0.09\n",
      "\n",
      "\n",
      "WoE and IV for column: d2\n",
      "   Value  All  Good  Bad  Distr_Good  Distr_Bad       WoE        IV\n",
      "0      0   70    30   40    0.491803   0.677966 -0.321018  0.059762\n",
      "1      1   50    31   19    0.508197   0.322034  0.456212  0.084930\n",
      "IV score: 0.14\n",
      "\n",
      "\n",
      "WoE and IV for column: d1\n",
      "   Value  All  Good  Bad  Distr_Good  Distr_Bad  WoE   IV\n",
      "0      0   61    61    0         1.0        0.0  0.0  0.0\n",
      "1      1   59     0   59         0.0        1.0  0.0 -0.0\n",
      "IV score: 0.00\n",
      "\n",
      "\n",
      "WoE and IV for column: a1_g1\n",
      "  Value  All  Good  Bad  Distr_Good  Distr_Bad       WoE        IV\n",
      "1    n1   29     8   21    0.131148   0.355932 -0.998417  0.224429\n",
      "0    n0   31    12   19    0.196721   0.322034 -0.492869  0.061763\n",
      "3    n3   28    19    9    0.311475   0.152542  0.713878  0.113459\n",
      "2    n2   32    22   10    0.360656   0.169492  0.755121  0.144352\n",
      "IV score: 0.54\n",
      "\n",
      "\n",
      "WoE and IV for column: a1_g1_b\n",
      "  Value  All  Good  Bad  Distr_Good  Distr_Bad       WoE        IV\n",
      "1    n1   40    10   30    0.163934   0.508475 -1.131949  0.390002\n",
      "0    n0   20    10   10    0.163934   0.169492 -0.033336  0.000185\n",
      "2    n2   10    10    0    0.163934   0.000000  0.000000  0.000000\n",
      "3    n3   50    31   19    0.508197   0.322034  0.456212  0.084930\n",
      "IV score: 0.48\n",
      "\n",
      "\n",
      "WoE and IV for column: a1_g2\n",
      "  Value  All  Good  Bad  Distr_Good  Distr_Bad       WoE        IV\n",
      "0    n0   45    17   28    0.278689   0.474576 -0.532328  0.104276\n",
      "1    n1   37    20   17    0.327869   0.288136  0.129183  0.005133\n",
      "2    n2   38    24   14    0.393443   0.237288  0.505660  0.078961\n",
      "IV score: 0.19\n",
      "\n",
      "\n",
      "WoE and IV for column: a1_g2_b\n",
      "  Value  All  Good  Bad  Distr_Good  Distr_Bad       WoE        IV\n",
      "0    n0   67    27   40    0.442623   0.677966 -0.426379  0.100345\n",
      "1    n1   53    34   19    0.557377   0.322034  0.548585  0.129106\n",
      "IV score: 0.23\n",
      "\n",
      "\n"
     ]
    }
   ],
   "source": [
    "for col in diagnostic.columns:\n",
    "    if col == 'target_1': continue\n",
    "    else:\n",
    "        print('WoE and IV for column: {}'.format(col))\n",
    "        df, iv = calculate_woe_iv(diagnostic, col, target_1) #df, iv = calculate_woe_iv(diagnostic, col, 'target_1')\n",
    "        print(df)\n",
    "        print('IV score: {:.2f}'.format(iv))\n",
    "        print('\\n')"
   ]
  },
  {
   "cell_type": "code",
   "execution_count": 135,
   "metadata": {},
   "outputs": [
    {
     "name": "stdout",
     "output_type": "stream",
     "text": [
      "WoE and IV for column: a1\n",
      "    Value  All  Good  Bad  Distr_Good  Distr_Bad       WoE        IV\n",
      "32   40.4    5     1    4    0.014286       0.08 -1.722767  0.113210\n",
      "35   40.7    5     1    4    0.014286       0.08 -1.722767  0.113210\n",
      "39   41.1    5     1    4    0.014286       0.08 -1.722767  0.113210\n",
      "28   40.0    8     2    6    0.028571       0.12 -1.435085  0.131208\n",
      "43   41.5    4     1    3    0.014286       0.06 -1.435085  0.065604\n",
      "40   41.2    4     1    3    0.014286       0.06 -1.435085  0.065604\n",
      "38   41.0    4     1    3    0.014286       0.06 -1.435085  0.065604\n",
      "34   40.6    3     1    2    0.014286       0.04 -1.029619  0.026476\n",
      "30   40.2    3     1    2    0.014286       0.04 -1.029619  0.026476\n",
      "37   40.9    3     0    3    0.000000       0.06  0.000000 -0.000000\n",
      "36   40.8    1     0    1    0.000000       0.02  0.000000 -0.000000\n",
      "33   40.5    1     0    1    0.000000       0.02  0.000000 -0.000000\n",
      "23   38.7    1     0    1    0.000000       0.02  0.000000 -0.000000\n",
      "31   40.3    1     0    1    0.000000       0.02  0.000000 -0.000000\n",
      "29   40.1    1     0    1    0.000000       0.02  0.000000 -0.000000\n",
      "41   41.3    1     0    1    0.000000       0.02  0.000000 -0.000000\n",
      "27   39.7    1     0    1    0.000000       0.02  0.000000 -0.000000\n",
      "26   39.4    1     0    1    0.000000       0.02  0.000000 -0.000000\n",
      "25   39.0    1     0    1    0.000000       0.02  0.000000 -0.000000\n",
      "24   38.9    1     0    1    0.000000       0.02  0.000000 -0.000000\n",
      "22   38.5    1     0    1    0.000000       0.02  0.000000 -0.000000\n",
      "0    35.5    1     1    0    0.014286       0.00  0.000000  0.000000\n",
      "20   38.1    1     0    1    0.000000       0.02  0.000000 -0.000000\n",
      "1    35.9    2     2    0    0.028571       0.00  0.000000  0.000000\n",
      "2    36.0    3     3    0    0.042857       0.00  0.000000  0.000000\n",
      "3    36.2    2     2    0    0.028571       0.00  0.000000  0.000000\n",
      "4    36.3    1     1    0    0.014286       0.00  0.000000  0.000000\n",
      "5    36.6    4     4    0    0.057143       0.00  0.000000  0.000000\n",
      "6    36.7    3     3    0    0.042857       0.00  0.000000  0.000000\n",
      "7    36.8    2     2    0    0.028571       0.00  0.000000  0.000000\n",
      "8    36.9    2     2    0    0.028571       0.00  0.000000  0.000000\n",
      "9    37.0    8     8    0    0.114286       0.00  0.000000  0.000000\n",
      "10   37.1    3     3    0    0.042857       0.00  0.000000  0.000000\n",
      "11   37.2    3     3    0    0.042857       0.00  0.000000  0.000000\n",
      "12   37.3    3     3    0    0.042857       0.00  0.000000  0.000000\n",
      "13   37.4    2     2    0    0.028571       0.00  0.000000  0.000000\n",
      "14   37.5    6     6    0    0.085714       0.00  0.000000  0.000000\n",
      "15   37.6    3     3    0    0.042857       0.00  0.000000  0.000000\n",
      "16   37.7    4     4    0    0.057143       0.00  0.000000  0.000000\n",
      "17   37.8    3     3    0    0.042857       0.00  0.000000  0.000000\n",
      "18   37.9    5     5    0    0.071429       0.00  0.000000  0.000000\n",
      "19   38.0    2     0    2    0.000000       0.04  0.000000 -0.000000\n",
      "42   41.4    1     0    1    0.000000       0.02  0.000000 -0.000000\n",
      "21   38.3    1     0    1    0.000000       0.02  0.000000 -0.000000\n",
      "IV score: 0.72\n",
      "\n",
      "\n",
      "WoE and IV for column: a2\n",
      "   Value  All  Good  Bad  Distr_Good  Distr_Bad       WoE       IV\n",
      "1      1   29     0   29         0.0       0.58  0.000000 -0.00000\n",
      "0      0   91    70   21         1.0       0.42  0.867501  0.50315\n",
      "IV score: 0.50\n",
      "\n",
      "\n",
      "WoE and IV for column: a3\n",
      "   Value  All  Good  Bad  Distr_Good  Distr_Bad       WoE        IV\n",
      "0      1   70    20   50    0.285714        1.0 -1.252763  0.894831\n",
      "1      0   50    50    0    0.714286        0.0  0.000000  0.000000\n",
      "IV score: 0.89\n",
      "\n",
      "\n",
      "WoE and IV for column: a4\n",
      "   Value  All  Good  Bad  Distr_Good  Distr_Bad       WoE        IV\n",
      "1      1   80    40   40    0.571429        0.8 -0.336472  0.076908\n",
      "0      0   40    30   10    0.428571        0.2  0.762140  0.174203\n",
      "IV score: 0.25\n",
      "\n",
      "\n",
      "WoE and IV for column: a5\n",
      "   Value  All  Good  Bad  Distr_Good  Distr_Bad       WoE        IV\n",
      "1      1   59    30   29    0.428571       0.58 -0.302571  0.045818\n",
      "0      0   61    40   21    0.571429       0.42  0.307885  0.046623\n",
      "IV score: 0.09\n",
      "\n",
      "\n",
      "WoE and IV for column: a6\n",
      "   Value  All  Good  Bad  Distr_Good  Distr_Bad       WoE        IV\n",
      "1      1   50    20   30    0.285714        0.6 -0.741937  0.233180\n",
      "0      0   70    50   20    0.714286        0.4  0.579818  0.182229\n",
      "IV score: 0.42\n",
      "\n",
      "\n",
      "WoE and IV for column: d2\n",
      "   Value  All  Good  Bad  Distr_Good  Distr_Bad  WoE   IV\n",
      "0      0   70    70    0         1.0        0.0  0.0  0.0\n",
      "1      1   50     0   50         0.0        1.0  0.0 -0.0\n",
      "IV score: 0.00\n",
      "\n",
      "\n",
      "WoE and IV for column: d1\n",
      "   Value  All  Good  Bad  Distr_Good  Distr_Bad       WoE        IV\n",
      "0      0   61    30   31    0.428571       0.62 -0.369262  0.070687\n",
      "1      1   59    40   19    0.571429       0.38  0.407968  0.078097\n",
      "IV score: 0.15\n",
      "\n",
      "\n",
      "WoE and IV for column: a1_g1\n",
      "  Value  All  Good  Bad  Distr_Good  Distr_Bad       WoE        IV\n",
      "2    n2   32     5   27    0.071429       0.54 -2.022871  0.947860\n",
      "3    n3   28     5   23    0.071429       0.46 -1.862529  0.723725\n",
      "0    n0   31    31    0    0.442857       0.00  0.000000  0.000000\n",
      "1    n1   29    29    0    0.414286       0.00  0.000000  0.000000\n",
      "IV score: 1.67\n",
      "\n",
      "\n",
      "WoE and IV for column: a1_g1_b\n",
      "  Value  All  Good  Bad  Distr_Good  Distr_Bad       WoE        IV\n",
      "3    n3   50    10   40    0.142857        0.8 -1.722767  1.132104\n",
      "0    n0   20    20    0    0.285714        0.0  0.000000  0.000000\n",
      "1    n1   40    40    0    0.571429        0.0  0.000000  0.000000\n",
      "2    n2   10     0   10    0.000000        0.2  0.000000 -0.000000\n",
      "IV score: 1.13\n",
      "\n",
      "\n",
      "WoE and IV for column: a1_g2\n",
      "  Value  All  Good  Bad  Distr_Good  Distr_Bad       WoE        IV\n",
      "2    n2   38     7   31    0.100000       0.62 -1.824549  0.948766\n",
      "1    n1   37    18   19    0.257143       0.38 -0.390539  0.047981\n",
      "0    n0   45    45    0    0.642857       0.00  0.000000  0.000000\n",
      "IV score: 1.00\n",
      "\n",
      "\n",
      "WoE and IV for column: a1_g2_b\n",
      "  Value  All  Good  Bad  Distr_Good  Distr_Bad       WoE        IV\n",
      "1    n1   53    10   43    0.142857       0.86 -1.795087  1.287334\n",
      "0    n0   67    60    7    0.857143       0.14  1.811962  1.299436\n",
      "IV score: 2.59\n",
      "\n",
      "\n"
     ]
    }
   ],
   "source": [
    "for col in diagnostic.columns:\n",
    "    if col == 'target_2': continue\n",
    "    else:\n",
    "        print('WoE and IV for column: {}'.format(col))\n",
    "        df, iv = calculate_woe_iv(diagnostic, col, target_2)\n",
    "        print(df)\n",
    "        print('IV score: {:.2f}'.format(iv))\n",
    "        print('\\n')"
   ]
  },
  {
   "cell_type": "markdown",
   "metadata": {},
   "source": [
    "Para interpregtar los resultados de IV, podemos fijarnos en esta tabla:  \n",
    "![Interpretar el valor de IV](images/IV_Interpretation.png)"
   ]
  },
  {
   "cell_type": "markdown",
   "metadata": {},
   "source": [
    "Por tanto seleccionaríamos:   \n",
    "Para la traget_1:\n",
    "\n",
    "- a2 (0.14)\n",
    "- a4 (0.70)\n",
    "- a6 (0.09)\n",
    "- a1_g1 (0.54)\n",
    "- a1_g1_b (0.58)\n",
    "- a1_g2 (0.19)\n",
    "- a1_g2_b (0.23)  \n",
    "\n",
    "Para la target_2:  \n",
    "\n",
    "- a2 (0.50)\n",
    "- a3 (0.89)\n",
    "- a4 (0.25)\n",
    "- a5 (0.05)\n",
    "- a6 (0.42)"
   ]
  }
 ],
 "metadata": {
  "kernelspec": {
   "display_name": "Python 3.8 (py38)",
   "language": "python",
   "name": "py38"
  },
  "language_info": {
   "codemirror_mode": {
    "name": "ipython",
    "version": 3
   },
   "file_extension": ".py",
   "mimetype": "text/x-python",
   "name": "python",
   "nbconvert_exporter": "python",
   "pygments_lexer": "ipython3",
   "version": "3.8.2"
  }
 },
 "nbformat": 4,
 "nbformat_minor": 4
}
